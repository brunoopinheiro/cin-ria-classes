{
 "cells": [
  {
   "cell_type": "markdown",
   "metadata": {},
   "source": [
    "# Python Orientação a Objetos - Introdução"
   ]
  },
  {
   "cell_type": "markdown",
   "metadata": {},
   "source": [
    "## Exercícios de Revisão"
   ]
  },
  {
   "cell_type": "code",
   "execution_count": 31,
   "metadata": {},
   "outputs": [],
   "source": [
    "# inverte string -> recursive\n",
    "def inverse_string(s):\n",
    "    if len(s) == 1:\n",
    "        return s\n",
    "    return inverse_string(s[1:]) + s[0]"
   ]
  },
  {
   "cell_type": "code",
   "execution_count": 32,
   "metadata": {},
   "outputs": [
    {
     "name": "stdout",
     "output_type": "stream",
     "text": [
      "etset\n"
     ]
    }
   ],
   "source": [
    "print(inverse_string('teste'))"
   ]
  },
  {
   "cell_type": "code",
   "execution_count": 33,
   "metadata": {},
   "outputs": [],
   "source": [
    "# palindromo\n",
    "\n",
    "\n",
    "def palindrome(word: str, i: int = 0, n: int | None = None):\n",
    "    if n is None:\n",
    "        n = len(word) - 1\n",
    "    if word[i] != word[n]:\n",
    "        return False\n",
    "    if i > (len(word)/2):\n",
    "        return palindrome(word, i+1, n-1)\n",
    "    return True"
   ]
  },
  {
   "cell_type": "code",
   "execution_count": 34,
   "metadata": {},
   "outputs": [
    {
     "name": "stdout",
     "output_type": "stream",
     "text": [
      "ana é palindromo\n",
      "banana não é palindromo\n",
      "ovo é palindromo\n"
     ]
    }
   ],
   "source": [
    "testes = [\n",
    "    'ana',\n",
    "    'banana',\n",
    "    'ovo',\n",
    "]\n",
    "\n",
    "for word in testes:\n",
    "    result = palindrome(word)\n",
    "    if result == True:\n",
    "        print(f'{word} é palindromo')\n",
    "    else:\n",
    "        print(f'{word} não é palindromo')"
   ]
  },
  {
   "cell_type": "markdown",
   "metadata": {},
   "source": [
    "## Trabalhando em Sistemas mais Complexos\n",
    "> Exemplo: vamos trabalhar com formas geométricas."
   ]
  },
  {
   "cell_type": "code",
   "execution_count": 35,
   "metadata": {},
   "outputs": [],
   "source": [
    "# file: circulo.py\n",
    "from math import pi\n",
    "\n",
    "def area(raio):\n",
    "    return pi*(raio**2)\n",
    "\n",
    "\n",
    "def circunferencia(raio):\n",
    "    return 2.0*pi*raio\n",
    "\n",
    "\n",
    "def superficie_esfera(raio):\n",
    "    return 4.0*area(raio)\n",
    "\n",
    "\n",
    "def volume_esfera(raio):\n",
    "    return (4.0/3.0)*pi*(raio**3)"
   ]
  },
  {
   "cell_type": "code",
   "execution_count": 36,
   "metadata": {},
   "outputs": [
    {
     "name": "stdout",
     "output_type": "stream",
     "text": [
      "78.53981633974483\n",
      "31.41592653589793\n",
      "314.1592653589793\n",
      "523.5987755982989\n"
     ]
    }
   ],
   "source": [
    "raio = 5\n",
    "print(area(raio))\n",
    "print(circunferencia(raio))\n",
    "print(superficie_esfera(raio))\n",
    "print(volume_esfera(raio))"
   ]
  },
  {
   "cell_type": "code",
   "execution_count": 7,
   "metadata": {},
   "outputs": [
    {
     "name": "stdout",
     "output_type": "stream",
     "text": [
      "     junho 2024\n",
      "do se te qu qu se sá\n",
      "                   1\n",
      " 2  3  4  5  6  7  8\n",
      " 9 10 11 12 13 14 15\n",
      "16 17 18 19 20 21 22\n",
      "23 24 25 26 27 28 29\n",
      "30\n",
      "\n",
      "Wednesday\n"
     ]
    }
   ],
   "source": [
    "import calendar as cal\n",
    "\n",
    "\n",
    "calendario = cal.LocaleTextCalendar(firstweekday=6, locale='pt_br')\n",
    "print(calendario.formatmonth(2024, 6))\n",
    "print(cal.day_name[cal.weekday(2024, 12, 25)])\n"
   ]
  },
  {
   "cell_type": "code",
   "execution_count": 9,
   "metadata": {},
   "outputs": [
    {
     "name": "stdout",
     "output_type": "stream",
     "text": [
      "[5, 1, 4, 1, 5, 6, 7, 7, 1, 1, 3, 6, 4, 4, 3, 1, 5, 7, 1, 1, 3, 7, 7, 3, 5]\n",
      "{5: 4, 1: 7, 4: 3, 6: 2, 7: 5, 3: 4}\n"
     ]
    }
   ],
   "source": [
    "from random import randint\n",
    "L = [randint(1, 7) for _ in range(25)]\n",
    "print(L)\n",
    "\n",
    "def qtde_ocorrencias(l_entrada):\n",
    "    contador = {}\n",
    "    for e in l_entrada:\n",
    "        contador.setdefault(e, 0)\n",
    "        contador[e] += 1\n",
    "    return contador\n",
    "\n",
    "print(qtde_ocorrencias(L))"
   ]
  },
  {
   "cell_type": "code",
   "execution_count": 10,
   "metadata": {},
   "outputs": [
    {
     "name": "stdout",
     "output_type": "stream",
     "text": [
      "Counter({1: 7, 7: 5, 5: 4, 3: 4, 4: 3, 6: 2})\n",
      "[(1, 7), (7, 5)]\n"
     ]
    }
   ],
   "source": [
    "import collections as col\n",
    "\n",
    "contagem = col.Counter(L)\n",
    "print(contagem)\n",
    "\n",
    "print(contagem.most_common(2))\n"
   ]
  },
  {
   "cell_type": "code",
   "execution_count": 14,
   "metadata": {},
   "outputs": [
    {
     "name": "stdout",
     "output_type": "stream",
     "text": [
      "6.877329600043595\n"
     ]
    }
   ],
   "source": [
    "import time\n",
    "\n",
    "t_inicial = time.perf_counter()\n",
    "var = 0\n",
    "while var < 100_000_000:\n",
    "    var += 1\n",
    "t_final = time.perf_counter()\n",
    "diferenca = t_final - t_inicial\n",
    "print(diferenca)"
   ]
  },
  {
   "cell_type": "code",
   "execution_count": 21,
   "metadata": {},
   "outputs": [
    {
     "name": "stdout",
     "output_type": "stream",
     "text": [
      "Atualmente eu tenho 11330 dias de vida\n"
     ]
    }
   ],
   "source": [
    "from datetime import date\n",
    "\n",
    "def quao_velho_eu_sou(data):\n",
    "    return (date.today() - date(*data)).days\n",
    "\n",
    "\n",
    "dias = quao_velho_eu_sou((1993, 6, 24))\n",
    "print(f'Atualmente eu tenho {dias} dias de vida')"
   ]
  }
 ],
 "metadata": {
  "kernelspec": {
   "display_name": "base",
   "language": "python",
   "name": "python3"
  },
  "language_info": {
   "codemirror_mode": {
    "name": "ipython",
    "version": 3
   },
   "file_extension": ".py",
   "mimetype": "text/x-python",
   "name": "python",
   "nbconvert_exporter": "python",
   "pygments_lexer": "ipython3",
   "version": "3.12.2"
  }
 },
 "nbformat": 4,
 "nbformat_minor": 2
}
