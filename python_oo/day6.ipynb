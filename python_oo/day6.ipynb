{
 "cells": [
  {
   "cell_type": "markdown",
   "metadata": {},
   "source": [
    "# Python - Orientação a Objetos\n",
    "## Revisão"
   ]
  },
  {
   "cell_type": "code",
   "execution_count": 126,
   "metadata": {},
   "outputs": [],
   "source": [
    "from enum import Enum\n",
    "\n",
    "\n",
    "class Departamento(Enum):\n",
    "    RH = 1\n",
    "    ENGENHARIA = 2\n",
    "    VENDAS = 3\n",
    "    JURIDICO = 4\n"
   ]
  },
  {
   "cell_type": "code",
   "execution_count": 127,
   "metadata": {},
   "outputs": [
    {
     "name": "stdout",
     "output_type": "stream",
     "text": [
      "Departamento.ENGENHARIA\n"
     ]
    }
   ],
   "source": [
    "print(Departamento.ENGENHARIA)"
   ]
  },
  {
   "cell_type": "code",
   "execution_count": 128,
   "metadata": {},
   "outputs": [],
   "source": [
    "class Empregado:\n",
    "    def __init__(self, nome, salario, departamento) -> None:\n",
    "        self.nome = nome\n",
    "        self.salario = salario\n",
    "        self.departamento = departamento\n",
    "\n",
    "    def trabalhar(self, *args, **kwargs):\n",
    "        raise NotImplementedError('Apenas as subclasses implementam este método.')\n",
    "\n",
    "    # getter com 'dot notation'\n",
    "    @property\n",
    "    def nome(self) -> str:\n",
    "        return self.__nome.upper()\n",
    "\n",
    "    @nome.setter\n",
    "    def nome(self, novo_nome: str) -> None:\n",
    "        if not novo_nome:\n",
    "            raise ValueError('Nome não pode ser vazio')\n",
    "        if len(novo_nome.split(' ')) < 2:\n",
    "            raise ValueError('Nome e Sobrenome são obrigatórios')\n",
    "        self.__nome = novo_nome\n",
    "\n",
    "    @property\n",
    "    def primeiro_nome(self) -> str:\n",
    "        return self.__nome.split(' ')[0].upper()\n"
   ]
  },
  {
   "cell_type": "code",
   "execution_count": 129,
   "metadata": {},
   "outputs": [],
   "source": [
    "class GerenteRH(Empregado):\n",
    "    def __init__(self, nome, salario) -> None:\n",
    "        super().__init__(nome, salario, Departamento.RH)\n",
    "\n",
    "    def trabalhar(self, *args, **kwargs):\n",
    "        return f'Gerente {self.nome} está gerenciando o time de RH, recebeu informações extras: {args}, {kwargs}'\n"
   ]
  },
  {
   "cell_type": "code",
   "execution_count": 130,
   "metadata": {},
   "outputs": [],
   "source": [
    "class Engenheiro(Empregado):\n",
    "    def __init__(self, nome, salario) -> None:\n",
    "        super().__init__(nome, salario, Departamento.ENGENHARIA)\n",
    "\n",
    "    def trabalhar(self, *args, **kwargs):\n",
    "        return f'Engenheiro(a) {self.nome} está escrevendo código. Recebeu informações extras: {args}, {kwargs}'\n"
   ]
  },
  {
   "cell_type": "code",
   "execution_count": 131,
   "metadata": {},
   "outputs": [],
   "source": [
    "from dataclasses import dataclass\n",
    "\n",
    "\n",
    "@dataclass\n",
    "class Projeto:\n",
    "    name: str\n",
    "    deadline: str"
   ]
  },
  {
   "cell_type": "code",
   "execution_count": 132,
   "metadata": {},
   "outputs": [],
   "source": [
    "class Empresa:\n",
    "    def __init__(self) -> None:\n",
    "        self.empregados = []\n",
    "        self.projetos = []\n",
    "\n",
    "    def adiciona_empregado(self, empregado):\n",
    "        self.empregados.append(empregado)\n",
    "\n",
    "    def adiciona_projeto(self, projeto):\n",
    "        self.projetos.append(projeto)\n",
    "\n",
    "    def atribui_projeto(self, projeto, empregado):\n",
    "        print(f'Atribuindo projeto {projeto.name} a empregado(a) {empregado.nome}')\n"
   ]
  },
  {
   "cell_type": "code",
   "execution_count": 133,
   "metadata": {},
   "outputs": [
    {
     "name": "stdout",
     "output_type": "stream",
     "text": [
      "Atribuindo projeto Robô Aspirador a empregado(a) ALINE FRACIELE CORREIA\n",
      "Atribuindo projeto Aprender Python a empregado(a) RESIDENTE SOFTEX\n",
      "\n",
      "Gerente JOÃO RIBEIRO está gerenciando o time de RH, recebeu informações extras: ('Título da Tarefa', 'Detalhe da Tarefa'), {'prazo': '2024-07-08', 'prioridade': 'ALTA'}\n",
      "Engenheiro(a) ALINE FRACIELE CORREIA está escrevendo código. Recebeu informações extras: ('Título da Tarefa', 'Detalhe da Tarefa'), {'prazo': '2024-07-08', 'prioridade': 'ALTA'}\n",
      "Engenheiro(a) RESIDENTE SOFTEX está escrevendo código. Recebeu informações extras: ('Título da Tarefa', 'Detalhe da Tarefa'), {'prazo': '2024-07-08', 'prioridade': 'ALTA'}\n",
      "ALINE\n"
     ]
    }
   ],
   "source": [
    "empresa = Empresa()\n",
    "gerenteRH = GerenteRH('João Ribeiro', 25_000)  # Gerente Junior\n",
    "engenheira = Engenheiro('Aline Fraciele Correia', 30_000)\n",
    "engenheiro = Engenheiro('Residente Softex', 3_000)\n",
    "\n",
    "projeto1 = Projeto('Robô Aspirador', '2024-07-10')\n",
    "projeto_pra_ontem = Projeto('Aprender Python', '2024-07-07')\n",
    "\n",
    "empresa.adiciona_empregado(gerenteRH)\n",
    "empresa.adiciona_empregado(engenheira)\n",
    "empresa.adiciona_empregado(engenheiro)\n",
    "\n",
    "empresa.adiciona_projeto(projeto1)\n",
    "empresa.adiciona_projeto(projeto_pra_ontem)\n",
    "\n",
    "empresa.atribui_projeto(projeto1, engenheira)\n",
    "empresa.atribui_projeto(projeto_pra_ontem, engenheiro)\n",
    "print()\n",
    "\n",
    "for empregado in empresa.empregados:\n",
    "    print(empregado.trabalhar('Título da Tarefa', 'Detalhe da Tarefa', prazo='2024-07-08', prioridade='ALTA'))\n",
    "\n",
    "print(engenheira.primeiro_nome)\n"
   ]
  },
  {
   "cell_type": "markdown",
   "metadata": {},
   "source": [
    "## Meta Programação"
   ]
  },
  {
   "cell_type": "code",
   "execution_count": 134,
   "metadata": {},
   "outputs": [
    {
     "name": "stdout",
     "output_type": "stream",
     "text": [
      "<__main__.Pessoa object at 0x000001F1B6FA9F70>\n",
      "Leopoldo\n"
     ]
    }
   ],
   "source": [
    "class Pessoa:  # == Pessoa(object):\n",
    "    pass\n",
    "\n",
    "p = Pessoa()\n",
    "p.nome = 'Leopoldo'\n",
    "\n",
    "print(p.__str__())\n",
    "print(p.nome)"
   ]
  },
  {
   "cell_type": "markdown",
   "metadata": {},
   "source": [
    "Mas é possível criar objetos sem nem mesmo declarar uma classe."
   ]
  },
  {
   "cell_type": "code",
   "execution_count": 135,
   "metadata": {},
   "outputs": [
    {
     "name": "stdout",
     "output_type": "stream",
     "text": [
      "<class '__main__.NovoTipo'>\n"
     ]
    }
   ],
   "source": [
    "s = 12\n",
    "tipo = type('NovoTipo', (object,), {})\n",
    "\n",
    "print(tipo)\n"
   ]
  },
  {
   "cell_type": "code",
   "execution_count": 136,
   "metadata": {},
   "outputs": [],
   "source": [
    "def nova_pessoa(self, nome, idade):\n",
    "    self.nome = nome\n",
    "    self.idade = idade\n",
    "\n",
    "def aniversario(self):\n",
    "    self.idade = self.idade + 1"
   ]
  },
  {
   "cell_type": "code",
   "execution_count": 137,
   "metadata": {},
   "outputs": [
    {
     "name": "stdout",
     "output_type": "stream",
     "text": [
      "<__main__.NovaPessoa object at 0x000001F1B8435F70>\n",
      "Juanito\n",
      "21\n"
     ]
    }
   ],
   "source": [
    "NovaPessoa = type('NovaPessoa', (object,), {'__init__': nova_pessoa, 'aniversario': aniversario})\n",
    "np = NovaPessoa('Juanito', 20)\n",
    "print(np)\n",
    "\n",
    "np.aniversario()\n",
    "print(np.nome)\n",
    "print(np.idade)"
   ]
  },
  {
   "cell_type": "code",
   "execution_count": 138,
   "metadata": {},
   "outputs": [
    {
     "name": "stdout",
     "output_type": "stream",
     "text": [
      "alguma coisa\n"
     ]
    }
   ],
   "source": [
    "np.x = 'alguma coisa'\n",
    "\n",
    "print(np.x)"
   ]
  },
  {
   "cell_type": "markdown",
   "metadata": {},
   "source": [
    "### Mais um Exemplo"
   ]
  },
  {
   "cell_type": "code",
   "execution_count": 139,
   "metadata": {},
   "outputs": [
    {
     "name": "stdout",
     "output_type": "stream",
     "text": [
      "Leopoldo Motta Teixeira\n",
      "Leopoldo Motta Teixeira\n",
      "False\n"
     ]
    }
   ],
   "source": [
    "class AcucarSintatico:\n",
    "    pass\n",
    "\n",
    "acst = AcucarSintatico()\n",
    "\n",
    "# acst.nome_completo = 'leopoldo'\n",
    "setattr(acst, 'nome_completo', 'Leopoldo Motta Teixeira')\n",
    "print(acst.nome_completo)\n",
    "\n",
    "x = getattr(acst, 'nome_completo')\n",
    "print(x)\n",
    "\n",
    "delattr(acst, 'nome_completo')\n",
    "print(hasattr(acst, 'nome_completo'))"
   ]
  },
  {
   "cell_type": "code",
   "execution_count": 145,
   "metadata": {},
   "outputs": [
    {
     "name": "stdout",
     "output_type": "stream",
     "text": [
      "Funciona?\n"
     ]
    }
   ],
   "source": [
    "acst.my_func = lambda x: print(x)\n",
    "\n",
    "acst.my_func('Funciona?')"
   ]
  },
  {
   "cell_type": "markdown",
   "metadata": {},
   "source": [
    "## Slots\n"
   ]
  },
  {
   "cell_type": "code",
   "execution_count": 140,
   "metadata": {},
   "outputs": [
    {
     "name": "stdout",
     "output_type": "stream",
     "text": [
      "leopoldo\n"
     ]
    },
    {
     "ename": "AttributeError",
     "evalue": "'UsandoSlots' object has no attribute 'cpf'",
     "output_type": "error",
     "traceback": [
      "\u001b[1;31m---------------------------------------------------------------------------\u001b[0m",
      "\u001b[1;31mAttributeError\u001b[0m                            Traceback (most recent call last)",
      "Cell \u001b[1;32mIn[140], line 16\u001b[0m\n\u001b[0;32m     13\u001b[0m us \u001b[38;5;241m=\u001b[39m UsandoSlots(\u001b[38;5;124m'\u001b[39m\u001b[38;5;124mleopoldo\u001b[39m\u001b[38;5;124m'\u001b[39m, \u001b[38;5;241m21\u001b[39m)\n\u001b[0;32m     14\u001b[0m \u001b[38;5;28mprint\u001b[39m(us\u001b[38;5;241m.\u001b[39mnome)\n\u001b[1;32m---> 16\u001b[0m \u001b[43mus\u001b[49m\u001b[38;5;241;43m.\u001b[39;49m\u001b[43mcpf\u001b[49m \u001b[38;5;241m=\u001b[39m \u001b[38;5;124m'\u001b[39m\u001b[38;5;124m123456789\u001b[39m\u001b[38;5;124m'\u001b[39m\n\u001b[0;32m     17\u001b[0m \u001b[38;5;28mprint\u001b[39m(us)\n",
      "\u001b[1;31mAttributeError\u001b[0m: 'UsandoSlots' object has no attribute 'cpf'"
     ]
    }
   ],
   "source": [
    "class UsandoSlots:\n",
    "\n",
    "    __slots__ = ['nome', 'idade']\n",
    "\n",
    "    def __init__(self, nome, idade):\n",
    "        self.nome = nome\n",
    "        self.idade = idade\n",
    "\n",
    "    def __str__(self):\n",
    "        return f'{self.nome} idade {self.idade}'\n",
    "\n",
    "\n",
    "us = UsandoSlots('leopoldo', 21)\n",
    "print(us.nome)\n",
    "\n",
    "us.cpf = '123456789'\n",
    "print(us)"
   ]
  },
  {
   "cell_type": "code",
   "execution_count": 143,
   "metadata": {},
   "outputs": [],
   "source": [
    "us.__slots__.append('outro_slot')"
   ]
  },
  {
   "cell_type": "code",
   "execution_count": 144,
   "metadata": {},
   "outputs": [
    {
     "ename": "AttributeError",
     "evalue": "'UsandoSlots' object has no attribute 'outro_slot'",
     "output_type": "error",
     "traceback": [
      "\u001b[1;31m---------------------------------------------------------------------------\u001b[0m",
      "\u001b[1;31mAttributeError\u001b[0m                            Traceback (most recent call last)",
      "Cell \u001b[1;32mIn[144], line 1\u001b[0m\n\u001b[1;32m----> 1\u001b[0m \u001b[43mus\u001b[49m\u001b[38;5;241;43m.\u001b[39;49m\u001b[43moutro_slot\u001b[49m \u001b[38;5;241m=\u001b[39m \u001b[38;5;124m'\u001b[39m\u001b[38;5;124mValor\u001b[39m\u001b[38;5;124m'\u001b[39m\n\u001b[0;32m      3\u001b[0m \u001b[38;5;28mprint\u001b[39m(us\u001b[38;5;241m.\u001b[39moutro_slot)\n",
      "\u001b[1;31mAttributeError\u001b[0m: 'UsandoSlots' object has no attribute 'outro_slot'"
     ]
    }
   ],
   "source": [
    "us.outro_slot = 'Valor'\n",
    "\n",
    "print(us.outro_slot)"
   ]
  }
 ],
 "metadata": {
  "kernelspec": {
   "display_name": "base",
   "language": "python",
   "name": "python3"
  },
  "language_info": {
   "codemirror_mode": {
    "name": "ipython",
    "version": 3
   },
   "file_extension": ".py",
   "mimetype": "text/x-python",
   "name": "python",
   "nbconvert_exporter": "python",
   "pygments_lexer": "ipython3",
   "version": "3.12.2"
  }
 },
 "nbformat": 4,
 "nbformat_minor": 2
}
