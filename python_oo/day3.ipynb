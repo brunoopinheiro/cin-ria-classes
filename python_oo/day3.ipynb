{
 "cells": [
  {
   "cell_type": "markdown",
   "metadata": {},
   "source": [
    "# Python - Orientação a Objetos"
   ]
  },
  {
   "cell_type": "markdown",
   "metadata": {},
   "source": [
    "# 1. O que é um OBJETO\n",
    "Um objeto é uma \"coisa\". No mundo real, um objeto tem dados (características) e comportamentos. Em software, objetos são criados a partir de classes. Uma classe é um modelo que define as características e comportamentos de um objeto.\n",
    "Uma classe é composta de `atributos` (dados) e `métodos` (comportamentos).\n",
    "\n",
    "## Orientação a Objetos\n",
    "Orientação a Objetos é um paradigma de programação que utiliza objetos para modelar o mundo real. Em OOP, os objetos são criados a partir de classes. Uma classe é um modelo que define as características e comportamentos de um objeto.\n",
    "\n",
    "## ADT (_Abstract Data Type_)\n",
    "### PILHA\n",
    "Conjunto de informações organizada de tal forma que a última informação inserida é a primeira a ser retirada. Isso é conhecido como LIFO (Last In, First Out).\n",
    "\n",
    "Dados:\n",
    "- `numeros`\n",
    "Operações:\n",
    "- `push`: insere um elemento no topo da pilha\n",
    "- `pop`: remove o elemento do topo da pilha\n",
    "- `top`: retorna o elemento do topo da pilha\n",
    "- `size`: retorna o tamanho da pilha\n",
    "- `empty`: verifica se a pilha está vazia\n"
   ]
  },
  {
   "cell_type": "code",
   "execution_count": 26,
   "metadata": {},
   "outputs": [],
   "source": [
    "# Uma PILHA (sem OO)\n",
    "dados = []\n",
    "\n",
    "def push(e):\n",
    "    dados.append(e)\n",
    "\n",
    "def pop():\n",
    "    return dados.pop()\n",
    "\n",
    "def top():\n",
    "    return dados[-1]\n",
    "\n",
    "def empty():\n",
    "    return len(dados) == 0\n",
    "\n",
    "def size():\n",
    "    return len(dados)"
   ]
  },
  {
   "cell_type": "code",
   "execution_count": 27,
   "metadata": {},
   "outputs": [
    {
     "name": "stdout",
     "output_type": "stream",
     "text": [
      "[1, 2, 3]\n"
     ]
    }
   ],
   "source": [
    "push(1)\n",
    "push(2)\n",
    "push(3)\n",
    "print(dados)"
   ]
  },
  {
   "cell_type": "code",
   "execution_count": 28,
   "metadata": {},
   "outputs": [],
   "source": [
    "# Uma pilha em OO\n",
    "class PilhaSimples:\n",
    "    def __init__(self):\n",
    "        self.dados = []\n",
    "\n",
    "    def push(self, e):\n",
    "        self.dados.append(e)\n",
    "\n",
    "    def pop(self):\n",
    "        return self.dados.pop()\n",
    "\n",
    "    def top(self):\n",
    "        return self.dados[-1]\n",
    "\n",
    "    def empty(self):\n",
    "        return len(self.dados) == 0\n",
    "\n",
    "    def size(self):\n",
    "        return len(self.dados)\n"
   ]
  },
  {
   "cell_type": "markdown",
   "metadata": {},
   "source": [
    "### Implementando uma pilha em OO sem usar uma lista"
   ]
  },
  {
   "cell_type": "code",
   "execution_count": 29,
   "metadata": {},
   "outputs": [],
   "source": [
    "class Node:\n",
    "    @property\n",
    "    def value(self):\n",
    "        return self.__value\n",
    "    \n",
    "    @value.setter\n",
    "    def value(self, new_value):\n",
    "        self.__value = new_value\n",
    "\n",
    "    @property\n",
    "    def previous_node(self):\n",
    "        return self.__prevnode\n",
    "    \n",
    "    @previous_node.setter\n",
    "    def previous_node(self, _node):\n",
    "        self.__prevnode = _node\n",
    "    \n",
    "    def __init__(\n",
    "            self,\n",
    "            value,\n",
    "            previous_node = None,\n",
    "        ):\n",
    "        self.value = value\n",
    "        self.previous_node = previous_node\n",
    "\n",
    "    def __str__(self) -> str:\n",
    "        if self.value is not None:\n",
    "            return str(self.value)\n",
    "        return 'None'\n"
   ]
  },
  {
   "cell_type": "code",
   "execution_count": 30,
   "metadata": {},
   "outputs": [],
   "source": [
    "class Pilha:\n",
    "    @property\n",
    "    def top_stack(self) -> Node:\n",
    "        return self.__top\n",
    "    \n",
    "    @top_stack.setter\n",
    "    def top_stack(self, new_top: Node):\n",
    "        self.__top = new_top\n",
    "\n",
    "    def __init__(self) -> None:\n",
    "        self.top_stack = None\n",
    "        self.__elements = 0\n",
    "\n",
    "    def push(self, new_value):\n",
    "        old_top = self.top_stack\n",
    "        new_top = Node(\n",
    "            value=new_value,\n",
    "            previous_node=old_top,\n",
    "        )\n",
    "        self.top_stack = new_top\n",
    "        self.__elements += 1\n",
    "\n",
    "    def pop(self) -> Node:\n",
    "        if self.__elements == 0:\n",
    "            raise ValueError('Empty Stack')\n",
    "        top = self.top_stack\n",
    "        previous = top.previous_node\n",
    "        self.top_stack = previous\n",
    "        self.__elements -= 1\n",
    "        return top\n",
    "\n",
    "    def top(self) -> Node:\n",
    "        return self.top_stack\n",
    "\n",
    "    def empty(self) -> bool:\n",
    "        return self.__elements == 0\n",
    "    \n",
    "    def size(self) -> int:\n",
    "        return self.__elements\n",
    "\n",
    "    def __str__(self) -> str:\n",
    "        str_rp = f'Pilha({self.size()} elementos)'\n",
    "        return str_rp"
   ]
  },
  {
   "cell_type": "code",
   "execution_count": 31,
   "metadata": {},
   "outputs": [
    {
     "name": "stdout",
     "output_type": "stream",
     "text": [
      "Pilha(0 elementos)\n",
      "True\n",
      "Pilha(1 elementos)\n",
      "Pilha(3 elementos)\n",
      "3\n",
      "3\n",
      "Pilha(2 elementos)\n",
      "False\n",
      "Pilha(0 elementos)\n",
      "True\n"
     ]
    }
   ],
   "source": [
    "my_stack = Pilha()\n",
    "print(my_stack)\n",
    "print(my_stack.empty())\n",
    "\n",
    "my_stack.push(1)\n",
    "print(my_stack)\n",
    "\n",
    "my_stack.push(2)\n",
    "my_stack.push(3)\n",
    "print(my_stack)\n",
    "print(my_stack.top())\n",
    "topel = my_stack.pop()\n",
    "print(topel)\n",
    "print(my_stack)\n",
    "print(my_stack.empty())\n",
    "my_stack.pop()\n",
    "my_stack.pop()\n",
    "print(my_stack)\n",
    "print(my_stack.empty())\n"
   ]
  },
  {
   "cell_type": "markdown",
   "metadata": {},
   "source": [
    "## Implementando o livro da aula passada com OO"
   ]
  },
  {
   "cell_type": "code",
   "execution_count": 32,
   "metadata": {},
   "outputs": [],
   "source": [
    "class Livro:\n",
    "    def __init__(\n",
    "            self,\n",
    "            titulo,\n",
    "            autor,\n",
    "            ano,\n",
    "            paginas,\n",
    "    ) -> None:\n",
    "        self.titulo = titulo\n",
    "        self.autor = autor\n",
    "        self.ano = ano\n",
    "        self.paginas = paginas\n",
    "\n",
    "    def longo(self):\n",
    "        return self.paginas > 300"
   ]
  },
  {
   "cell_type": "markdown",
   "metadata": {},
   "source": [
    "## Implementando uma estrutura mais complexa"
   ]
  },
  {
   "cell_type": "code",
   "execution_count": 33,
   "metadata": {},
   "outputs": [],
   "source": [
    "class IntSet:\n",
    "    \"\"\"Um IntSet é um conjunto de inteiros\"\"\"\n",
    "    def __init__(self) -> None:\n",
    "        self.valores = []\n",
    "\n",
    "    def insert(self, e):\n",
    "        if e not in self.valores:\n",
    "            self.valores.append(e)\n",
    "\n",
    "    def member(self, e):\n",
    "        if e in self.valores:\n",
    "            return True\n",
    "        else:\n",
    "            return False\n",
    "        \n",
    "    def remove(self, e):\n",
    "        try:\n",
    "            self.valores.remove(e)\n",
    "        except:\n",
    "            raise ValueError(str(e) + ' não existe no conjunto.')\n",
    "        \n",
    "    def members(self):\n",
    "        return self.valores[:]\n",
    "\n",
    "    def union(self, other):\n",
    "        for e in other.valores:\n",
    "            self.insert(e)\n",
    "\n",
    "    def __str__(self):\n",
    "        if self.valores == []:\n",
    "            return '{}'\n",
    "        result = ','.join([str(e) for e in self.valores])\n",
    "        return f'{{{result}}}'\n"
   ]
  },
  {
   "cell_type": "code",
   "execution_count": 34,
   "metadata": {},
   "outputs": [
    {
     "name": "stdout",
     "output_type": "stream",
     "text": [
      "{1}\n",
      "{1,2,3}\n",
      "I1 = {1,2,3}\n",
      "I2 = {2,3,4,5}\n",
      "{1,2,3,4,5}\n",
      "I1 + I2 = {1,2,3,4,5}\n"
     ]
    }
   ],
   "source": [
    "i1 = IntSet()\n",
    "i1.insert(1)\n",
    "i1.insert(1)\n",
    "print(i1)\n",
    "\n",
    "i1.insert(2)\n",
    "i1.insert(3)\n",
    "print(i1)\n",
    "\n",
    "i2 = IntSet()\n",
    "for i in [2, 3, 4, 5]:\n",
    "    i2.insert(i)\n",
    "\n",
    "\n",
    "print(f'I1 = {i1}')\n",
    "print(f'I2 = {i2}')\n",
    "i1.union(i2)\n",
    "print(i1)\n",
    "print(f'I1 + I2 = {i1}')"
   ]
  },
  {
   "cell_type": "markdown",
   "metadata": {},
   "source": [
    "## Implementando um Array"
   ]
  },
  {
   "cell_type": "code",
   "execution_count": 78,
   "metadata": {},
   "outputs": [],
   "source": [
    "class Array:\n",
    "    def __init__(self, tamanho) -> None:\n",
    "        self.tamanho = tamanho\n",
    "        self.elementos = [None] * tamanho\n",
    "\n",
    "    def __setitem__(self, posicao, elemento):\n",
    "        if posicao > 0 and posicao <= self.tamanho:\n",
    "            self.elementos[posicao-1] = elemento\n",
    "            return\n",
    "        raise IndexError('Tentando inserir elemento fora dos limites do array.')\n",
    "\n",
    "    def __getitem__(self, posicao):\n",
    "        if posicao > 0 and posicao <= self.tamanho:\n",
    "            return self.elementos[posicao -1]\n",
    "        raise IndexError('Tentando obter elemento fora dos limites do array')\n",
    "\n",
    "    def __len__(self):\n",
    "        return self.tamanho\n",
    "\n",
    "    def __contains__(self, elemento):\n",
    "        return elemento in self.elementos\n",
    "    \n",
    "    def __iter__(self):\n",
    "        for i in range(self.tamanho):\n",
    "            yield self.elementos[i]\n",
    "\n",
    "    def __eq__(self, outro):\n",
    "        if type(self) != type(outro):\n",
    "            return False\n",
    "        if self.tamanho != outro.tamanho:\n",
    "            return False\n",
    "        for i in range(self.tamanho):\n",
    "            if self.elementos[i] != outro.elementos[i]:\n",
    "                return False\n",
    "        return True\n",
    "\n",
    "    def __add__(self, outro):\n",
    "        if type(self) != type(outro):\n",
    "            raise TypeError('Não é possível combinar Array com outros tipos')\n",
    "        a = Array(self.tamanho + outro.tamanho)\n",
    "        for i in range(self.tamanho):\n",
    "            a[i+1] = self.elementos[i]\n",
    "        for i in range(outro.tamanho):\n",
    "            idx = i + 1 + self.tamanho\n",
    "            a[idx] = outro[i+1]\n",
    "        return a\n",
    "\n",
    "\n",
    "    def __str__(self):\n",
    "        return f'Array com tamanho {self.tamanho} e conteúdo: {str(self.elementos)}'"
   ]
  },
  {
   "cell_type": "code",
   "execution_count": 79,
   "metadata": {},
   "outputs": [
    {
     "name": "stdout",
     "output_type": "stream",
     "text": [
      "<class '__main__.Array'>\n",
      "Array com tamanho 10 e conteúdo: [None, None, None, None, None, None, None, None, None, None]\n",
      "Array com tamanho 10 e conteúdo: [None, None, 12, None, None, None, None, None, None, None]\n",
      "Erro:  Tentando inserir elemento fora dos limites do array.\n",
      "None\n",
      "True\n",
      "False\n",
      "10\n",
      "Tem sim\n",
      "12\n"
     ]
    }
   ],
   "source": [
    "a1 = Array(10)\n",
    "print(type(a1))\n",
    "print(a1)\n",
    "\n",
    "a1[3] = 12\n",
    "print(a1)\n",
    "try:\n",
    "    a1[0] = 20\n",
    "except IndexError as msg:\n",
    "    print(\"Erro: \", msg)\n",
    "\n",
    "print(a1[4])\n",
    "\n",
    "a2 = Array(10)\n",
    "a2[3] = 12\n",
    "print(a1 == a2)\n",
    "\n",
    "a2[6] = 12\n",
    "print(a1 == a2)\n",
    "\n",
    "print(len(a1))\n",
    "\n",
    "if 12 in a1:\n",
    "    print('Tem sim')\n",
    "\n",
    "for i in a1:\n",
    "    if i is not None:\n",
    "        print(i)"
   ]
  },
  {
   "cell_type": "code",
   "execution_count": 80,
   "metadata": {},
   "outputs": [
    {
     "name": "stdout",
     "output_type": "stream",
     "text": [
      "Array com tamanho 10 e conteúdo: [None, None, 12, None, None, None, None, None, None, None]\n",
      "Array com tamanho 10 e conteúdo: [None, None, 12, None, None, 12, None, None, None, None]\n",
      "Array com tamanho 20 e conteúdo: [None, None, 12, None, None, None, None, None, None, None, None, None, 12, None, None, 12, None, None, None, None]\n"
     ]
    }
   ],
   "source": [
    "print(a1)\n",
    "print(a2)\n",
    "a3 = a1 + a2\n",
    "print(a3)"
   ]
  },
  {
   "cell_type": "markdown",
   "metadata": {},
   "source": [
    "## Visibilidade de Atributos"
   ]
  },
  {
   "cell_type": "code",
   "execution_count": 85,
   "metadata": {},
   "outputs": [],
   "source": [
    "class Toy:\n",
    "    def __init__(self, L = []) -> None:\n",
    "        self.__elementos = L\n",
    "\n",
    "    def inserir(self, e):\n",
    "        self.__elementos.append(e)\n",
    "\n",
    "    def __str__(self):\n",
    "        return str(self.__elementos)"
   ]
  },
  {
   "cell_type": "code",
   "execution_count": 90,
   "metadata": {},
   "outputs": [
    {
     "name": "stdout",
     "output_type": "stream",
     "text": [
      "[1, 1, 1, 1]\n"
     ]
    },
    {
     "ename": "AttributeError",
     "evalue": "'Toy' object has no attribute '__elementos'",
     "output_type": "error",
     "traceback": [
      "\u001b[1;31m---------------------------------------------------------------------------\u001b[0m",
      "\u001b[1;31mAttributeError\u001b[0m                            Traceback (most recent call last)",
      "Cell \u001b[1;32mIn[90], line 6\u001b[0m\n\u001b[0;32m      3\u001b[0m \u001b[38;5;28mprint\u001b[39m(t)\n\u001b[0;32m      5\u001b[0m \u001b[38;5;66;03m# Isso gera um erro\u001b[39;00m\n\u001b[1;32m----> 6\u001b[0m l \u001b[38;5;241m=\u001b[39m \u001b[43mt\u001b[49m\u001b[38;5;241;43m.\u001b[39;49m\u001b[43m__elementos\u001b[49m\n\u001b[0;32m      7\u001b[0m l\u001b[38;5;241m.\u001b[39minserir(\u001b[38;5;241m2\u001b[39m)\n\u001b[0;32m      8\u001b[0m \u001b[38;5;28mprint\u001b[39m(t\u001b[38;5;241m.\u001b[39m__elementos)\n",
      "\u001b[1;31mAttributeError\u001b[0m: 'Toy' object has no attribute '__elementos'"
     ]
    }
   ],
   "source": [
    "t = Toy()\n",
    "t.inserir(1)\n",
    "print(t)\n",
    "\n",
    "# Isso gera um erro\n",
    "l = t.__elementos\n",
    "l.inserir(2)\n",
    "print(t.__elementos)"
   ]
  }
 ],
 "metadata": {
  "kernelspec": {
   "display_name": "base",
   "language": "python",
   "name": "python3"
  },
  "language_info": {
   "codemirror_mode": {
    "name": "ipython",
    "version": 3
   },
   "file_extension": ".py",
   "mimetype": "text/x-python",
   "name": "python",
   "nbconvert_exporter": "python",
   "pygments_lexer": "ipython3",
   "version": "3.12.2"
  }
 },
 "nbformat": 4,
 "nbformat_minor": 2
}
