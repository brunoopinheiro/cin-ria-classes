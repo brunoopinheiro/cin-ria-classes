{
 "cells": [
  {
   "cell_type": "markdown",
   "metadata": {},
   "source": [
    "# Python - Orientação a Objetos"
   ]
  },
  {
   "cell_type": "markdown",
   "metadata": {},
   "source": [
    "## Noções de Herança\n",
    "> \"Algo que é herdado de um ancestral ou passado de geração em geração.\" Em programação orientada a objetos, a herança é um mecanismo que permite a criação de uma nova classe que herda atributos e métodos de uma classe existente. A classe que é herdada é chamada de classe base ou superclasse, e a nova classe é chamada de classe derivada ou subclasse."
   ]
  },
  {
   "cell_type": "code",
   "execution_count": 46,
   "metadata": {},
   "outputs": [],
   "source": [
    "class Pessoa:\n",
    "    def __init__(self, nome='sem nome', idade=0) -> None:\n",
    "        self.nome = nome\n",
    "        self.idade = idade\n",
    "\n",
    "    def __str__(self) -> str:\n",
    "        return f'{self.nome} tem {self.idade} anos'\n",
    "    \n",
    "    def aniversario(self):\n",
    "        self.idade = self.idade + 1"
   ]
  },
  {
   "cell_type": "code",
   "execution_count": 47,
   "metadata": {},
   "outputs": [],
   "source": [
    "class Estudante(Pessoa):\n",
    "    def __init__(\n",
    "            self,\n",
    "            nome='sem nome',\n",
    "            idade=0,\n",
    "            disciplinas = [],\n",
    "            orientador = None) -> None:\n",
    "        super().__init__(nome, idade)\n",
    "        self.__disciplinas = disciplinas\n",
    "        self.__orientador = orientador\n",
    "\n",
    "    def __str__(self):\n",
    "        basemsg = super().__str__()\n",
    "        msg = f'''Estudante: {basemsg}, cursou as disciplinas {str(self.__disciplinas)} e tem como orientador {self.__orientador}'''\n",
    "        return msg\n"
   ]
  },
  {
   "cell_type": "code",
   "execution_count": 48,
   "metadata": {},
   "outputs": [
    {
     "name": "stdout",
     "output_type": "stream",
     "text": [
      "sem nome tem 0 anos\n",
      "Estudante: sem nome tem 0 anos, cursou as disciplinas [] e tem como orientador None\n",
      "Estudante: sem nome tem 1 anos, cursou as disciplinas [] e tem como orientador None\n"
     ]
    }
   ],
   "source": [
    "p1 = Pessoa()\n",
    "print(p1)\n",
    "\n",
    "e1 = Estudante()\n",
    "print(e1)\n",
    "e1.aniversario()\n",
    "print(e1)"
   ]
  },
  {
   "cell_type": "markdown",
   "metadata": {},
   "source": [
    "## Herança Múltipla"
   ]
  },
  {
   "cell_type": "code",
   "execution_count": 58,
   "metadata": {},
   "outputs": [],
   "source": [
    "class A:\n",
    "    def ola(self):\n",
    "        print('Olá a partir de A')\n",
    "\n",
    "\n",
    "class B(A):\n",
    "    def ola(self):\n",
    "        print('Olá a partir de B')\n",
    "\n",
    "\n",
    "class C(A):\n",
    "    def ola(self):\n",
    "        print('Olá a partir de C')\n",
    "\n",
    "\n",
    "class D(B, C):\n",
    "    pass\n",
    "\n",
    "\n",
    "class E(D):\n",
    "    pass"
   ]
  },
  {
   "cell_type": "code",
   "execution_count": 59,
   "metadata": {},
   "outputs": [
    {
     "name": "stdout",
     "output_type": "stream",
     "text": [
      "Olá a partir de A\n",
      "Olá a partir de B\n",
      "Olá a partir de C\n",
      "Olá a partir de B\n",
      "[<class '__main__.D'>, <class '__main__.B'>, <class '__main__.C'>, <class '__main__.A'>, <class 'object'>]\n"
     ]
    }
   ],
   "source": [
    "a = A()\n",
    "a.ola()\n",
    "b = B()\n",
    "b.ola()\n",
    "c = C()\n",
    "c.ola()\n",
    "d = D()\n",
    "d.ola()\n",
    "print(D.mro())"
   ]
  },
  {
   "cell_type": "markdown",
   "metadata": {},
   "source": [
    "## Composição\n",
    "Um objeto pode ser composto de outros objetos. Por exemplo, um carro é composto de motor, rodas, portas, etc. A composição é uma forma de reutilização de código, onde um objeto é composto de outros objetos. A composição é uma relação \"tem um\" entre objetos. Por exemplo, um carro tem um motor, um carro tem rodas, um carro tem portas, etc."
   ]
  },
  {
   "cell_type": "code",
   "execution_count": 65,
   "metadata": {},
   "outputs": [],
   "source": [
    "class Endereco:\n",
    "\n",
    "    @property\n",
    "    def cep(self) -> str:\n",
    "        unmaskedcep = str(self.__cep)\n",
    "        return f'{unmaskedcep[0:2]}.{unmaskedcep[2:4]}-{unmaskedcep[4:]}'\n",
    "\n",
    "    def __init__(\n",
    "        self,\n",
    "        logradouro: str,\n",
    "        num: int,\n",
    "        bairro: str,\n",
    "        cep: int,\n",
    "        cidade: str,\n",
    "        estado: str,\n",
    "        complemento: str | None = None,\n",
    "        pais: str = 'Brasil',\n",
    "    ):\n",
    "        self.logradouro = logradouro\n",
    "        self.num = num\n",
    "        self.complement = complemento\n",
    "        self.bairro = bairro\n",
    "        self.__cep = cep\n",
    "        self.cidade = cidade\n",
    "        self.estado = estado\n",
    "        self.pais = pais\n",
    "\n",
    "    def __str__(self) -> str:\n",
    "        baseadrs = f'{self.logradouro}, {self.num}'\n",
    "        if self.complement is not None:\n",
    "            baseadrs = baseadrs + self.complement\n",
    "        adrs = f'''{baseadrs}. {self.bairro}. CEP: {self.cep}. \n",
    "        {self.cidade}, {self.estado} - {self.pais}'''\n",
    "        return adrs"
   ]
  },
  {
   "cell_type": "code",
   "execution_count": 71,
   "metadata": {},
   "outputs": [],
   "source": [
    "# Redefinindo Pessoa\n",
    "class Pessoa:\n",
    "    def __init__(self, nome='sem nome', idade=0, endereco = None) -> None:\n",
    "        self.nome = nome\n",
    "        self.idade = idade\n",
    "        self.endereco = endereco\n",
    "\n",
    "    def __str__(self) -> str:\n",
    "        return f'{self.nome} tem {self.idade} anos. Mora em {self.endereco}'\n",
    "    \n",
    "    def aniversario(self):\n",
    "        self.idade = self.idade + 1"
   ]
  },
  {
   "cell_type": "code",
   "execution_count": 73,
   "metadata": {},
   "outputs": [
    {
     "name": "stdout",
     "output_type": "stream",
     "text": [
      "Caba Massa tem 42 anos. Mora em Rua Massa, 101. Bairro Daora. CEP: 51.12-3456. \n",
      "        Recife, Pernambuco - Brasil\n"
     ]
    }
   ],
   "source": [
    "end1 = Endereco(\n",
    "    logradouro='Rua Massa',\n",
    "    num=101,\n",
    "    bairro='Bairro Daora',\n",
    "    cep=51123456,\n",
    "    cidade='Recife',\n",
    "    estado='Pernambuco',\n",
    "    pais='Brasil'\n",
    ")\n",
    "cabra = Pessoa(\n",
    "    endereco=end1,\n",
    "    nome='Caba Massa',\n",
    "    idade=42,\n",
    ")\n",
    "\n",
    "# print(end1)\n",
    "print(cabra)"
   ]
  },
  {
   "cell_type": "markdown",
   "metadata": {},
   "source": [
    "Dessa forma, é possível estabelecer objetos que são compostos de outros objetos. Relação \"TEM UM\".\n",
    "Ex.: Um carro tem um motor, um carro tem rodas, um carro tem portas, etc."
   ]
  }
 ],
 "metadata": {
  "kernelspec": {
   "display_name": "base",
   "language": "python",
   "name": "python3"
  },
  "language_info": {
   "codemirror_mode": {
    "name": "ipython",
    "version": 3
   },
   "file_extension": ".py",
   "mimetype": "text/x-python",
   "name": "python",
   "nbconvert_exporter": "python",
   "pygments_lexer": "ipython3",
   "version": "3.12.2"
  }
 },
 "nbformat": 4,
 "nbformat_minor": 2
}
