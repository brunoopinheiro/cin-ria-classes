{
 "cells": [
  {
   "cell_type": "code",
   "execution_count": 3,
   "metadata": {},
   "outputs": [],
   "source": [
    "# imports\n",
    "import torch\n",
    "import numpy as np"
   ]
  },
  {
   "cell_type": "code",
   "execution_count": null,
   "metadata": {},
   "outputs": [],
   "source": [
    "import os\n",
    "import random\n",
    "import numpy as np\n",
    "import torch\n",
    "\n",
    "def set_seed(seed):\n",
    "    torch.backends.cudnn.benchmark = False\n",
    "    torch.backends.cudnn.deterministic = True\n",
    "    torch.manual_seed(seed)\n",
    "    torch.cuda.manual_seed_all(seed)\n",
    "    # Leave as True to ensure deterministic behavior.\n",
    "    torch.use_deterministic_algorithms(False)\n",
    "    np.random.seed(seed)\n",
    "    random.seed(seed)\n",
    "    os.environ['PYTHONHASHSEED'] = str(seed)\n",
    "\n",
    "set_seed(42)"
   ]
  },
  {
   "cell_type": "code",
   "execution_count": 2,
   "metadata": {},
   "outputs": [
    {
     "data": {
      "text/plain": [
       "tensor([[1, 2],\n",
       "        [3, 4]])"
      ]
     },
     "execution_count": 2,
     "metadata": {},
     "output_type": "execute_result"
    }
   ],
   "source": [
    "T = torch.tensor([[1, 2], [3, 4]])\n",
    "T"
   ]
  },
  {
   "cell_type": "code",
   "execution_count": 4,
   "metadata": {},
   "outputs": [
    {
     "data": {
      "text/plain": [
       "tensor([[0., 0., 0.],\n",
       "        [0., 0., 0.],\n",
       "        [0., 0., 0.]])"
      ]
     },
     "execution_count": 4,
     "metadata": {},
     "output_type": "execute_result"
    }
   ],
   "source": [
    "A = torch.zeros((3, 3))\n",
    "A"
   ]
  },
  {
   "cell_type": "code",
   "execution_count": 6,
   "metadata": {},
   "outputs": [
    {
     "data": {
      "text/plain": [
       "tensor([[1., 1., 1.],\n",
       "        [1., 1., 1.],\n",
       "        [1., 1., 1.]])"
      ]
     },
     "execution_count": 6,
     "metadata": {},
     "output_type": "execute_result"
    }
   ],
   "source": [
    "B = torch.ones((3, 3))\n",
    "B"
   ]
  },
  {
   "cell_type": "code",
   "execution_count": 8,
   "metadata": {},
   "outputs": [
    {
     "data": {
      "text/plain": [
       "tensor([[1., 0., 0.],\n",
       "        [0., 1., 0.],\n",
       "        [0., 0., 1.]])"
      ]
     },
     "execution_count": 8,
     "metadata": {},
     "output_type": "execute_result"
    }
   ],
   "source": [
    "I = torch.eye(3)\n",
    "I"
   ]
  },
  {
   "cell_type": "code",
   "execution_count": 9,
   "metadata": {},
   "outputs": [
    {
     "data": {
      "text/plain": [
       "(tensor([[1.],\n",
       "         [2.],\n",
       "         [3.]]),\n",
       " tensor([[1.],\n",
       "         [2.],\n",
       "         [3.]]))"
      ]
     },
     "execution_count": 9,
     "metadata": {},
     "output_type": "execute_result"
    }
   ],
   "source": [
    "v = torch.tensor([[1], [2], [3]], dtype=torch.float32)\n",
    "\n",
    "v, I @ v"
   ]
  },
  {
   "cell_type": "code",
   "execution_count": 10,
   "metadata": {},
   "outputs": [
    {
     "data": {
      "text/plain": [
       "tensor([[0.7960, 0.0204, 0.7002],\n",
       "        [0.8637, 0.1043, 0.2668],\n",
       "        [0.6748, 0.9047, 0.0666]])"
      ]
     },
     "execution_count": 10,
     "metadata": {},
     "output_type": "execute_result"
    }
   ],
   "source": [
    "torch.rand((3, 3))"
   ]
  },
  {
   "cell_type": "code",
   "execution_count": 11,
   "metadata": {},
   "outputs": [
    {
     "data": {
      "text/plain": [
       "tensor([[-0.2179,  0.5449, -1.0085],\n",
       "        [-0.7483, -1.9127, -1.4410],\n",
       "        [-0.2582,  0.8042,  0.2454]])"
      ]
     },
     "execution_count": 11,
     "metadata": {},
     "output_type": "execute_result"
    }
   ],
   "source": [
    "torch.randn((3, 3))"
   ]
  },
  {
   "cell_type": "code",
   "execution_count": 12,
   "metadata": {},
   "outputs": [
    {
     "data": {
      "text/plain": [
       "(tensor(4.9842), tensor(1.0009))"
      ]
     },
     "execution_count": 12,
     "metadata": {},
     "output_type": "execute_result"
    }
   ],
   "source": [
    "mu = 5\n",
    "sigma = 1\n",
    "N = torch.normal(mu, sigma, (100, 100))\n",
    "\n",
    "torch.mean(N), torch.std(N)"
   ]
  },
  {
   "cell_type": "code",
   "execution_count": 13,
   "metadata": {},
   "outputs": [
    {
     "data": {
      "text/plain": [
       "(tensor([[0., 0., 0.],\n",
       "         [0., 0., 0.],\n",
       "         [0., 0., 0.]]),\n",
       " tensor([[1., 1., 1.],\n",
       "         [1., 1., 1.],\n",
       "         [1., 1., 1.]]),\n",
       " tensor([[0.7282, 0.6711, 0.3839],\n",
       "         [0.0759, 0.7174, 0.9517],\n",
       "         [0.7424, 0.9942, 0.8717]]))"
      ]
     },
     "execution_count": 13,
     "metadata": {},
     "output_type": "execute_result"
    }
   ],
   "source": [
    "torch.zeros_like(A), torch.ones_like(B), torch.rand_like(A)"
   ]
  },
  {
   "cell_type": "code",
   "execution_count": 14,
   "metadata": {},
   "outputs": [
    {
     "data": {
      "text/plain": [
       "(torch.int64, torch.Size([2, 2]), device(type='cpu'))"
      ]
     },
     "execution_count": 14,
     "metadata": {},
     "output_type": "execute_result"
    }
   ],
   "source": [
    "T.dtype, T.shape, T.device"
   ]
  },
  {
   "cell_type": "code",
   "execution_count": 15,
   "metadata": {},
   "outputs": [
    {
     "data": {
      "text/plain": [
       "(torch.Size([24, 3, 128, 128]),\n",
       " torch.Size([24, 128, 128, 3]),\n",
       " torch.Size([24, 128, 128, 3]))"
      ]
     },
     "execution_count": 15,
     "metadata": {},
     "output_type": "execute_result"
    }
   ],
   "source": [
    "E = torch.rand((24, 3, 128, 128))\n",
    "\n",
    "E.shape, torch.transpose(E, 1, 3).shape, torch.permute(E, (0, 2, 3, 1)).shape"
   ]
  },
  {
   "cell_type": "code",
   "execution_count": 19,
   "metadata": {},
   "outputs": [
    {
     "data": {
      "text/plain": [
       "(tensor([[[0.5128, 0.1570, 0.0850,  ..., 0.1270, 0.5248, 0.3922],\n",
       "          [0.2032, 0.6623, 0.5437,  ..., 0.1499, 0.0232, 0.4865],\n",
       "          [0.8346, 0.4636, 0.9492,  ..., 0.0809, 0.9027, 0.3325],\n",
       "          ...,\n",
       "          [0.2861, 0.7658, 0.8274,  ..., 0.5432, 0.7543, 0.9152],\n",
       "          [0.0500, 0.3290, 0.4225,  ..., 0.4535, 0.9524, 0.4407],\n",
       "          [0.2254, 0.9594, 0.5365,  ..., 0.0650, 0.4904, 0.6302]],\n",
       " \n",
       "         [[0.9549, 0.2920, 0.9357,  ..., 0.2303, 0.6503, 0.6622],\n",
       "          [0.9316, 0.7518, 0.0015,  ..., 0.0059, 0.0056, 0.5936],\n",
       "          [0.9588, 0.3701, 0.2780,  ..., 0.4043, 0.1662, 0.8489],\n",
       "          ...,\n",
       "          [0.9248, 0.2545, 0.6792,  ..., 0.4049, 0.8166, 0.9896],\n",
       "          [0.3666, 0.2271, 0.0112,  ..., 0.6541, 0.7323, 0.8564],\n",
       "          [0.6120, 0.7074, 0.3422,  ..., 0.4304, 0.9405, 0.3390]],\n",
       " \n",
       "         [[0.9161, 0.5858, 0.3810,  ..., 0.2885, 0.5190, 0.7532],\n",
       "          [0.7253, 0.7665, 0.0544,  ..., 0.9821, 0.6299, 0.8789],\n",
       "          [0.9171, 0.9168, 0.0014,  ..., 0.3227, 0.1766, 0.5321],\n",
       "          ...,\n",
       "          [0.8369, 0.0858, 0.1762,  ..., 0.2255, 0.2024, 0.5811],\n",
       "          [0.7963, 0.8633, 0.9543,  ..., 0.1890, 0.0459, 0.2388],\n",
       "          [0.1220, 0.3978, 0.5612,  ..., 0.3646, 0.3099, 0.5853]],\n",
       " \n",
       "         ...,\n",
       " \n",
       "         [[0.1517, 0.2138, 0.7913,  ..., 0.3154, 0.6120, 0.2900],\n",
       "          [0.4742, 0.0217, 0.8086,  ..., 0.0750, 0.5326, 0.3444],\n",
       "          [0.1352, 0.2443, 0.9805,  ..., 0.7469, 0.5691, 0.8677],\n",
       "          ...,\n",
       "          [0.2560, 0.5508, 0.5940,  ..., 0.6781, 0.3494, 0.9445],\n",
       "          [0.9482, 0.3265, 0.2072,  ..., 0.0574, 0.7956, 0.9917],\n",
       "          [0.9122, 0.7559, 0.6600,  ..., 0.4774, 0.7427, 0.8767]],\n",
       " \n",
       "         [[0.2212, 0.0228, 0.7040,  ..., 0.1970, 0.9131, 0.3195],\n",
       "          [0.0702, 0.4122, 0.8983,  ..., 0.9812, 0.6087, 0.1741],\n",
       "          [0.8954, 0.0891, 0.2787,  ..., 0.3979, 0.9032, 0.8954],\n",
       "          ...,\n",
       "          [0.0445, 0.9756, 0.2730,  ..., 0.9539, 0.5721, 0.6615],\n",
       "          [0.4400, 0.3847, 0.6231,  ..., 0.6223, 0.6992, 0.0658],\n",
       "          [0.6896, 0.6561, 0.2716,  ..., 0.3741, 0.3638, 0.4877]],\n",
       " \n",
       "         [[0.5834, 0.9876, 0.7462,  ..., 0.7102, 0.0109, 0.1859],\n",
       "          [0.2541, 0.9834, 0.9217,  ..., 0.7176, 0.9955, 0.4623],\n",
       "          [0.1339, 0.0644, 0.0187,  ..., 0.7855, 0.2094, 0.4838],\n",
       "          ...,\n",
       "          [0.4430, 0.1828, 0.2696,  ..., 0.4642, 0.0663, 0.4754],\n",
       "          [0.6012, 0.0417, 0.1345,  ..., 0.9402, 0.6872, 0.6814],\n",
       "          [0.0246, 0.9455, 0.9186,  ..., 0.6739, 0.6905, 0.6010]]]),\n",
       " tensor([[[0.5128, 0.1570, 0.0850,  ..., 0.1270, 0.5248, 0.3922],\n",
       "          [0.2032, 0.6623, 0.5437,  ..., 0.1499, 0.0232, 0.4865],\n",
       "          [0.8346, 0.4636, 0.9492,  ..., 0.0809, 0.9027, 0.3325],\n",
       "          ...,\n",
       "          [0.2861, 0.7658, 0.8274,  ..., 0.5432, 0.7543, 0.9152],\n",
       "          [0.0500, 0.3290, 0.4225,  ..., 0.4535, 0.9524, 0.4407],\n",
       "          [0.2254, 0.9594, 0.5365,  ..., 0.0650, 0.4904, 0.6302]],\n",
       " \n",
       "         [[0.3703, 0.8470, 0.1977,  ..., 0.0101, 0.0883, 0.4405],\n",
       "          [0.1563, 0.8297, 0.5421,  ..., 0.3489, 0.6247, 0.7128],\n",
       "          [0.7583, 0.7536, 0.8562,  ..., 0.3658, 0.7888, 0.0030],\n",
       "          ...,\n",
       "          [0.5146, 0.8207, 0.9534,  ..., 0.0157, 0.8078, 0.8310],\n",
       "          [0.9830, 0.1070, 0.2449,  ..., 0.0167, 0.2471, 0.7615],\n",
       "          [0.2675, 0.3423, 0.6593,  ..., 0.4162, 0.8806, 0.1076]],\n",
       " \n",
       "         [[0.6865, 0.7923, 0.8910,  ..., 0.8921, 0.0713, 0.5715],\n",
       "          [0.0387, 0.7427, 0.9071,  ..., 0.9444, 0.6077, 0.8362],\n",
       "          [0.2931, 0.8521, 0.3672,  ..., 0.7017, 0.1716, 0.9100],\n",
       "          ...,\n",
       "          [0.5080, 0.9141, 0.2970,  ..., 0.5361, 0.3020, 0.6764],\n",
       "          [0.8275, 0.6963, 0.8602,  ..., 0.5294, 0.7749, 0.6636],\n",
       "          [0.8905, 0.1038, 0.4816,  ..., 0.4163, 0.0754, 0.7881]]]))"
      ]
     },
     "execution_count": 19,
     "metadata": {},
     "output_type": "execute_result"
    }
   ],
   "source": [
    "E[:, 0], E[0, :]"
   ]
  },
  {
   "cell_type": "code",
   "execution_count": 20,
   "metadata": {},
   "outputs": [
    {
     "data": {
      "text/plain": [
       "tensor([[[0.6865, 0.7923, 0.8910,  ..., 0.8921, 0.0713, 0.5715],\n",
       "         [0.0387, 0.7427, 0.9071,  ..., 0.9444, 0.6077, 0.8362],\n",
       "         [0.2931, 0.8521, 0.3672,  ..., 0.7017, 0.1716, 0.9100],\n",
       "         ...,\n",
       "         [0.5080, 0.9141, 0.2970,  ..., 0.5361, 0.3020, 0.6764],\n",
       "         [0.8275, 0.6963, 0.8602,  ..., 0.5294, 0.7749, 0.6636],\n",
       "         [0.8905, 0.1038, 0.4816,  ..., 0.4163, 0.0754, 0.7881]],\n",
       "\n",
       "        [[0.3703, 0.8470, 0.1977,  ..., 0.0101, 0.0883, 0.4405],\n",
       "         [0.1563, 0.8297, 0.5421,  ..., 0.3489, 0.6247, 0.7128],\n",
       "         [0.7583, 0.7536, 0.8562,  ..., 0.3658, 0.7888, 0.0030],\n",
       "         ...,\n",
       "         [0.5146, 0.8207, 0.9534,  ..., 0.0157, 0.8078, 0.8310],\n",
       "         [0.9830, 0.1070, 0.2449,  ..., 0.0167, 0.2471, 0.7615],\n",
       "         [0.2675, 0.3423, 0.6593,  ..., 0.4162, 0.8806, 0.1076]],\n",
       "\n",
       "        [[0.5128, 0.1570, 0.0850,  ..., 0.1270, 0.5248, 0.3922],\n",
       "         [0.2032, 0.6623, 0.5437,  ..., 0.1499, 0.0232, 0.4865],\n",
       "         [0.8346, 0.4636, 0.9492,  ..., 0.0809, 0.9027, 0.3325],\n",
       "         ...,\n",
       "         [0.2861, 0.7658, 0.8274,  ..., 0.5432, 0.7543, 0.9152],\n",
       "         [0.0500, 0.3290, 0.4225,  ..., 0.4535, 0.9524, 0.4407],\n",
       "         [0.2254, 0.9594, 0.5365,  ..., 0.0650, 0.4904, 0.6302]]])"
      ]
     },
     "execution_count": 20,
     "metadata": {},
     "output_type": "execute_result"
    }
   ],
   "source": [
    "torch.flip(E[0, :], dims=(0,))"
   ]
  },
  {
   "cell_type": "code",
   "execution_count": 21,
   "metadata": {},
   "outputs": [
    {
     "data": {
      "text/plain": [
       "tensor([[0.7723, 0.9570, 0.8248, 0.1791, 0.0664, 0.9672, 0.3118, 0.0975, 0.7035,\n",
       "         0.2473, 0.2263, 0.6516],\n",
       "        [0.7881, 0.9218, 0.3057, 0.7873, 0.2708, 0.3634, 0.8278, 0.3273, 0.9376,\n",
       "         0.7383, 0.2048, 0.6244],\n",
       "        [0.0320, 0.6625, 0.8559, 0.5631, 0.3213, 0.2234, 0.1187, 0.2194, 0.7299,\n",
       "         0.8566, 0.8498, 0.6443],\n",
       "        [0.0412, 0.8220, 0.4762, 0.9876, 0.4289, 0.5886, 0.1775, 0.2035, 0.0500,\n",
       "         0.6195, 0.2570, 0.7293]])"
      ]
     },
     "execution_count": 21,
     "metadata": {},
     "output_type": "execute_result"
    }
   ],
   "source": [
    "D = torch.rand((4, 4, 3))\n",
    "torch.reshape(D, (4, 4 *3))"
   ]
  },
  {
   "cell_type": "code",
   "execution_count": 22,
   "metadata": {},
   "outputs": [
    {
     "data": {
      "text/plain": [
       "False"
      ]
     },
     "execution_count": 22,
     "metadata": {},
     "output_type": "execute_result"
    }
   ],
   "source": [
    "torch.cuda.is_available()"
   ]
  }
 ],
 "metadata": {
  "kernelspec": {
   "display_name": "base",
   "language": "python",
   "name": "python3"
  },
  "language_info": {
   "codemirror_mode": {
    "name": "ipython",
    "version": 3
   },
   "file_extension": ".py",
   "mimetype": "text/x-python",
   "name": "python",
   "nbconvert_exporter": "python",
   "pygments_lexer": "ipython3",
   "version": "3.12.2"
  }
 },
 "nbformat": 4,
 "nbformat_minor": 2
}
