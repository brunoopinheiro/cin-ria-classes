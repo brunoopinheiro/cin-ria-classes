{
 "cells": [
  {
   "attachments": {
    "image.png": {
     "image/png": "[encoded data removed]"
    }
   },
   "cell_type": "markdown",
   "metadata": {},
   "source": [
    "# Introdução\n",
    "![](attachment:image.png)"
   ]
  },
  {
   "cell_type": "markdown",
   "metadata": {},
   "source": [
    "## Download Python:\n",
    "[Python Download](https://www.python.org/downloads/)\n",
    "\n",
    "## Editor de Texto de Preferência:\n",
    "- VS Code\n",
    "- Notepad ++\n",
    "\n",
    "## Miniconda\n",
    "[Miniconda](https://docs.anaconda.com/free/miniconda/index.html)\n",
    "<br>\n",
    "<img src=\"https://titangene.github.io/images/cover/python_anaconda.png\" width=\"400px\" />"
   ]
  },
  {
   "cell_type": "markdown",
   "metadata": {},
   "source": [
    "## Dias 01 - 04\n",
    "- Variáveis\n",
    "- Bibliotecas\n",
    "- Função\n",
    "- Condicional\n",
    "- Laços de Repetição"
   ]
  },
  {
   "cell_type": "markdown",
   "metadata": {},
   "source": [
    "## Conceito de Variáveis\n",
    "O python é uma das principais linguagens que possui tipagem dinâmica."
   ]
  },
  {
   "cell_type": "code",
   "execution_count": 5,
   "metadata": {},
   "outputs": [
    {
     "name": "stdout",
     "output_type": "stream",
     "text": [
      "10\n",
      "<class 'int'>\n",
      "<class 'str'>\n",
      "<class 'bool'>\n"
     ]
    }
   ],
   "source": [
    "# variaveis.py\n",
    "x = 10\n",
    "\n",
    "mensagem = \"nova mensagem\"\n",
    "\n",
    "falso = True\n",
    "\n",
    "print(x)\n",
    "print(type(x))\n",
    "print(type(mensagem))\n",
    "print(type(falso))"
   ]
  },
  {
   "cell_type": "markdown",
   "metadata": {},
   "source": [
    "Desta forma, durante a execução do programa ou compilação, o tipo da variável pode ser alterado."
   ]
  },
  {
   "cell_type": "code",
   "execution_count": 6,
   "metadata": {},
   "outputs": [
    {
     "name": "stdout",
     "output_type": "stream",
     "text": [
      "10.0\n",
      "<class 'float'>\n"
     ]
    }
   ],
   "source": [
    "x = float(x)\n",
    "\n",
    "print(x)\n",
    "print(type(x))"
   ]
  },
  {
   "cell_type": "markdown",
   "metadata": {},
   "source": [
    "## Regras de Nomenclatura\n",
    "Convencionalmente, em Python, usamos variáveis com nome compostos da seguinte forma, implementando o formato `snake_case`:\n",
    "\n",
    "```\n",
    "variavel_com_nome_complexo = \"valor\"\n",
    "```"
   ]
  },
  {
   "cell_type": "markdown",
   "metadata": {},
   "source": [
    "A regra de nomeação de constantes no Python segue um padrão parecido com as de variáveis, com a diferença de que todas as letras são maiusculas e separadas por um underline `_`.\n",
    "\n",
    "```\n",
    "MINHA_CONSTANTE = 10\n",
    "```\n",
    "\n",
    "- Não deve ser alterada após a inicialização.\n",
    "    - Embora o python permita que isso aconteça."
   ]
  },
  {
   "cell_type": "markdown",
   "metadata": {},
   "source": [
    "## Tipos de Variáveis\n",
    "- Numéricos\n",
    "    - Numeros Inteiros: `int`\n",
    "    - Números com ponto flutuante: `float`\n",
    "    - Números complexos: `complex`\n",
    "- Sequências\n",
    "    - Lista de Objetos: `list: []`\n",
    "    - Lista imutável: `tuple: ()`\n",
    "    - Sequência de Números: `range`\n",
    "    - Sequência de caracteres: `str`"
   ]
  },
  {
   "cell_type": "code",
   "execution_count": 20,
   "metadata": {},
   "outputs": [
    {
     "name": "stdout",
     "output_type": "stream",
     "text": [
      "['olá', 32, True, 'Tchau']\n",
      "olá\n",
      "Tchau\n",
      "['Oi', 32, True, 'Tchau']\n"
     ]
    }
   ],
   "source": [
    "minha_lista = ['olá', 32, True, 'Tchau']\n",
    "\n",
    "print(minha_lista)\n",
    "print(minha_lista[0])\n",
    "print(minha_lista[-1]) # contando de cabeça pra trás (HOPPER, Mattheus. 2024)\n",
    "\n",
    "minha_lista[0] = 'Oi'\n",
    "print(minha_lista)"
   ]
  },
  {
   "cell_type": "code",
   "execution_count": 18,
   "metadata": {},
   "outputs": [
    {
     "name": "stdout",
     "output_type": "stream",
     "text": [
      "('Python', 'Ruby', 'Javascript', 'Pearl', 'Haskall')\n",
      "<class 'tuple'>\n",
      "('Python', 'Ruby')\n",
      "('Python', 'Ruby', 'Javascript')\n",
      "('Ruby', 'Javascript', 'Pearl')\n"
     ]
    },
    {
     "ename": "TypeError",
     "evalue": "'tuple' object does not support item assignment",
     "output_type": "error",
     "traceback": [
      "\u001b[1;31m---------------------------------------------------------------------------\u001b[0m",
      "\u001b[1;31mTypeError\u001b[0m                                 Traceback (most recent call last)",
      "Cell \u001b[1;32mIn[18], line 10\u001b[0m\n\u001b[0;32m      7\u001b[0m \u001b[38;5;28mprint\u001b[39m(linguagens[\u001b[38;5;241m1\u001b[39m:\u001b[38;5;241m-\u001b[39m\u001b[38;5;241m1\u001b[39m])\n\u001b[0;32m      9\u001b[0m \u001b[38;5;66;03m# tupla não pode ser alterada\u001b[39;00m\n\u001b[1;32m---> 10\u001b[0m \u001b[43mlinguagens\u001b[49m\u001b[43m[\u001b[49m\u001b[38;5;241;43m0\u001b[39;49m\u001b[43m]\u001b[49m \u001b[38;5;241m=\u001b[39m \u001b[38;5;124m'\u001b[39m\u001b[38;5;124mC++\u001b[39m\u001b[38;5;124m'\u001b[39m\n",
      "\u001b[1;31mTypeError\u001b[0m: 'tuple' object does not support item assignment"
     ]
    }
   ],
   "source": [
    "linguagens = ('Python', 'Ruby', 'Javascript', 'Pearl', 'Haskall')\n",
    "\n",
    "print(linguagens)\n",
    "print(type(linguagens))\n",
    "print(linguagens[0:2])\n",
    "print(linguagens[:-2])\n",
    "print(linguagens[1:-1])\n",
    "\n",
    "# tupla não pode ser alterada\n",
    "linguagens[0] = 'C++'"
   ]
  },
  {
   "cell_type": "code",
   "execution_count": 21,
   "metadata": {},
   "outputs": [
    {
     "name": "stdout",
     "output_type": "stream",
     "text": [
      "0\n",
      "1\n",
      "2\n",
      "3\n",
      "4\n",
      "5\n",
      "6\n",
      "7\n",
      "8\n",
      "9\n"
     ]
    }
   ],
   "source": [
    "for i in range(0, 10):\n",
    "    print(i)"
   ]
  },
  {
   "cell_type": "markdown",
   "metadata": {},
   "source": [
    "- Valores Lógicos:\n",
    "    - bool: `True` e `False`\n",
    "- Mapeamentos:\n",
    "    - Dicionário:\n",
    "        - Utiliza o conceito de `chave`: `valor`\n",
    "        - `{'chave': 'valor'}`"
   ]
  },
  {
   "cell_type": "code",
   "execution_count": 26,
   "metadata": {},
   "outputs": [
    {
     "name": "stdout",
     "output_type": "stream",
     "text": [
      "{'nome': 'A Night at the Opera', 'artista': 'Blind Guardian', 'lancamento': 2003}\n",
      "<class 'dict'>\n",
      "A Night at the Opera\n",
      "Blind Guardian\n",
      "2003\n"
     ]
    }
   ],
   "source": [
    "album = {\n",
    "    'nome': 'A Night at the Opera',\n",
    "    'artista': 'Blind Guardian',\n",
    "    'lancamento': 2003,\n",
    "}\n",
    "\n",
    "print(album)\n",
    "print(type(album))\n",
    "print(album['nome'])\n",
    "print(album['artista'])\n",
    "print(album['lancamento'])"
   ]
  },
  {
   "cell_type": "code",
   "execution_count": 30,
   "metadata": {},
   "outputs": [
    {
     "name": "stdout",
     "output_type": "stream",
     "text": [
      "Ouro\n",
      "Ouro\n"
     ]
    }
   ],
   "source": [
    "elemento = {\n",
    "    'nome': 'Ouro',\n",
    "    'simbolo': 'Au',\n",
    "    'numero_atomico': 79,\n",
    "}\n",
    "\n",
    "print(elemento['nome'])\n",
    "print(elemento.get('nome'))"
   ]
  },
  {
   "cell_type": "markdown",
   "metadata": {},
   "source": [
    "## Print & Input\n",
    "- Input: comando que recebe valor do terminal"
   ]
  },
  {
   "cell_type": "code",
   "execution_count": 31,
   "metadata": {},
   "outputs": [
    {
     "name": "stdout",
     "output_type": "stream",
     "text": [
      "Seu número é: 42\n"
     ]
    }
   ],
   "source": [
    "numero = input('Digite seu número: ')\n",
    "print(f'Seu número é: {numero}')"
   ]
  },
  {
   "cell_type": "markdown",
   "metadata": {},
   "source": [
    "## Conceito de Bibliotecas\n",
    "- Uma biblioteca é uma coleção de códigos pré-compilados que podem ser usados posteriormente em um programa para algumas operações específicas bem definidas.\n",
    "- Além de códigos pré-compilados, uma biblioteca pode conter documentação, dados de configuração, modelos de mensagens, classes e valores, etc.\n",
    "- Importação de módulos\n",
    "    - Utilize o comando import para importar módulos e acessar suas funcionalidades.\n",
    "    - `import nome-da-biblioteca`\n",
    "    - import absoluto:\n",
    "        - `from nome-do-modulo import nome-do-objeto`\n",
    "- pip - Gerenciador de pacotes\n",
    "    - O pip facilita o download, instalação e gerenciamento de pacotes python.\n",
    "    - `pip install nome-da-biblioteca`\n",
    "    - Você pode instalar uma lib pelo .whl"
   ]
  },
  {
   "cell_type": "markdown",
   "metadata": {},
   "source": [
    "```cmd\n",
    "pip install matplotlib\n",
    "pip install pandas\n",
    "```"
   ]
  },
  {
   "cell_type": "code",
   "execution_count": 2,
   "metadata": {},
   "outputs": [],
   "source": [
    "# bib.py\n",
    "# importando com um alias (apelido)\n",
    "import matplotlib.pyplot as plt\n",
    "import numpy as np\n",
    "import pandas as pd"
   ]
  },
  {
   "cell_type": "code",
   "execution_count": 3,
   "metadata": {},
   "outputs": [
    {
     "name": "stdout",
     "output_type": "stream",
     "text": [
      "[1 3 5]\n",
      "<class 'numpy.ndarray'>\n"
     ]
    }
   ],
   "source": [
    "array = np.array([1, 3, 5])\n",
    "print(array)\n",
    "print(type(array))"
   ]
  },
  {
   "cell_type": "code",
   "execution_count": 7,
   "metadata": {},
   "outputs": [
    {
     "data": {
      "image/png": "[encoded data removed]",
      "text/plain": [
       "<Figure size 640x480 with 1 Axes>"
      ]
     },
     "metadata": {},
     "output_type": "display_data"
    }
   ],
   "source": [
    "fig, ax = plt.subplots()\n",
    "\n",
    "fruits = ['Apple', 'Blueberry', 'Cherry', 'Orange']\n",
    "count = [40, 100, 30, 55]\n",
    "\n",
    "bar_labels = ['red', 'blue', '_red', 'orange']\n",
    "bar_colors = ['tab:red', 'tab:blue', 'tab:red', 'tab:orange']\n",
    "\n",
    "ax.bar(fruits, count, label=bar_labels, color=bar_colors)\n",
    "ax.set_ylabel('Fruit Supply')\n",
    "ax.set_title('Fruit Supply by Kind and Color')\n",
    "ax.legend(title='Fruit color')\n",
    "\n",
    "plt.show()"
   ]
  }
 ],
 "metadata": {
  "kernelspec": {
   "display_name": "Python 3",
   "language": "python",
   "name": "python3"
  },
  "language_info": {
   "codemirror_mode": {
    "name": "ipython",
    "version": 3
   },
   "file_extension": ".py",
   "mimetype": "text/x-python",
   "name": "python",
   "nbconvert_exporter": "python",
   "pygments_lexer": "ipython3",
   "version": "3.12.3"
  }
 },
 "nbformat": 4,
 "nbformat_minor": 2
}
