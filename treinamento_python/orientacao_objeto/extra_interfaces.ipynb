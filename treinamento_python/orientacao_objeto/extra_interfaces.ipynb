{
 "cells": [
  {
   "cell_type": "markdown",
   "metadata": {},
   "source": [
    "# Interfaces\n",
    "> São um subconjunto dos métodos públicos de um objeto. Trata-se de uma espécie de contrato para forçar a implementação de determinados métodos e determinadas propriedades. Em um alto nível, uma interface atua como um modelo para projetar classes."
   ]
  },
  {
   "cell_type": "markdown",
   "metadata": {},
   "source": [
    "![alt text](https://content-assets.betrybe.com/prod/55afc0d2-2ef7-420c-b316-f3f340ebb7a6-Interfaces.png)"
   ]
  },
  {
   "cell_type": "markdown",
   "metadata": {},
   "source": [
    "Uma das metas de **POO** (_Programação Orientada a Objetos_) é facilitar a manutenção do programa, a fim de que a pessoa desenvolvedora possa mantê-lo funcionando quando outras partes do sistema forem alteradas. Além disso, que ela possa alterar o programa para satisfazer novas condições - e no mundo dinâmico que vivemos hoje, as mudanças são praticamente diárias.\n",
    "\n",
    "Um princípio ou padrão de projeto que ajuda a atingir essa meta é manter as interfaces separadas das implementações. Para objetos, isso quer dizer que os métodos que uma classe oferece não devem depender de como os atributos são representados.\n",
    "\n",
    "Assim como as classes, as interfaces definem métodos. No entanto, ao contrário das classes, esses métodos são **abstratos**.\n",
    "\n",
    "Um método abstrato é aquele que interface simplesmente define, ou seja, não implementa o corpo desses métodos. No caso, esse corpo do método é construído em classes que implementam a interface e dão significado concreto aos métodos abstratos da interface.\n",
    "\n",
    "Vamos desenvolver um exemplo simples, utilizando a exceção `NotImplementedError` em uma classe pai."
   ]
  },
  {
   "cell_type": "code",
   "execution_count": 1,
   "metadata": {},
   "outputs": [],
   "source": [
    "class Employee:\n",
    "    def calculate_salary(self) -> float:\n",
    "        raise NotImplementedError('Classes derivadas de Employee precisam implementar o salário.')"
   ]
  },
  {
   "cell_type": "markdown",
   "metadata": {},
   "source": [
    "Dessa forma, para que a excessão não ocorra, todas as classes filhas de `Employee` vão precisar implementar o próprio método de `calculate_salary()`.\n",
    "Vamos ver primeiro o que acontece caso o método não seja implementado:"
   ]
  },
  {
   "cell_type": "code",
   "execution_count": 2,
   "metadata": {},
   "outputs": [
    {
     "ename": "NotImplementedError",
     "evalue": "Classes derivadas de Employee precisam implementar o salário.",
     "output_type": "error",
     "traceback": [
      "\u001b[1;31m---------------------------------------------------------------------------\u001b[0m",
      "\u001b[1;31mNotImplementedError\u001b[0m                       Traceback (most recent call last)",
      "Cell \u001b[1;32mIn[2], line 5\u001b[0m\n\u001b[0;32m      2\u001b[0m     \u001b[38;5;28;01mpass\u001b[39;00m\n\u001b[0;32m      4\u001b[0m not_an_employee \u001b[38;5;241m=\u001b[39m NotARealEmployee()\n\u001b[1;32m----> 5\u001b[0m \u001b[43mnot_an_employee\u001b[49m\u001b[38;5;241;43m.\u001b[39;49m\u001b[43mcalculate_salary\u001b[49m\u001b[43m(\u001b[49m\u001b[43m)\u001b[49m\n",
      "Cell \u001b[1;32mIn[1], line 3\u001b[0m, in \u001b[0;36mEmployee.calculate_salary\u001b[1;34m(self)\u001b[0m\n\u001b[0;32m      2\u001b[0m \u001b[38;5;28;01mdef\u001b[39;00m \u001b[38;5;21mcalculate_salary\u001b[39m(\u001b[38;5;28mself\u001b[39m) \u001b[38;5;241m-\u001b[39m\u001b[38;5;241m>\u001b[39m \u001b[38;5;28mfloat\u001b[39m:\n\u001b[1;32m----> 3\u001b[0m     \u001b[38;5;28;01mraise\u001b[39;00m \u001b[38;5;167;01mNotImplementedError\u001b[39;00m(\u001b[38;5;124m'\u001b[39m\u001b[38;5;124mClasses derivadas de Employee precisam implementar o salário.\u001b[39m\u001b[38;5;124m'\u001b[39m)\n",
      "\u001b[1;31mNotImplementedError\u001b[0m: Classes derivadas de Employee precisam implementar o salário."
     ]
    }
   ],
   "source": [
    "class NotARealEmployee(Employee):\n",
    "    pass\n",
    "\n",
    "not_an_employee = NotARealEmployee()\n",
    "not_an_employee.calculate_salary()"
   ]
  },
  {
   "cell_type": "markdown",
   "metadata": {},
   "source": [
    "Perceba que **Employee** é uma classe como qualquer outra (sem nenhuma sintaxe extra), e portanto você pode fazer o que quiser com ela, inclusive inserir métodos não abstratos (diferentemente de outras linguagens como Java).\n",
    "\n",
    "Pode acontecer que, depois de implementar uma nova classe, você descubra uma implementação melhor. Se outras partes do programa estiverem usando a sua classe, mudar a interface pode ser trabalhoso e induzir a erros. No entanto, se projetou a interface cuidadosamente, pode alterar a implementação sem mudar a interface, e não será preciso mudar outras partes do programa. 💡"
   ]
  },
  {
   "cell_type": "code",
   "execution_count": 4,
   "metadata": {},
   "outputs": [
    {
     "name": "stdout",
     "output_type": "stream",
     "text": [
      "3000.0\n"
     ]
    }
   ],
   "source": [
    "class Residente(Employee):\n",
    "    def __init__(self, name):\n",
    "        self._name = name\n",
    "\n",
    "\n",
    "    def calculate_salary(self) -> float:\n",
    "        return 3000.00\n",
    "\n",
    "\n",
    "residente_1 = Residente('Robô Residente')\n",
    "print(residente_1.calculate_salary())"
   ]
  }
 ],
 "metadata": {
  "kernelspec": {
   "display_name": "base",
   "language": "python",
   "name": "python3"
  },
  "language_info": {
   "codemirror_mode": {
    "name": "ipython",
    "version": 3
   },
   "file_extension": ".py",
   "mimetype": "text/x-python",
   "name": "python",
   "nbconvert_exporter": "python",
   "pygments_lexer": "ipython3",
   "version": "3.12.2"
  }
 },
 "nbformat": 4,
 "nbformat_minor": 2
}
