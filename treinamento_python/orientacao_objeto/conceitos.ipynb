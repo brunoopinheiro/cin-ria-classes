{
 "cells": [
  {
   "cell_type": "markdown",
   "metadata": {},
   "source": [
    "# Dia 4 - Orientação à Objetos\n",
    "\n",
    "- Objetos\n",
    "- Classes\n",
    "- Encapsulamento\n",
    "- Herança\n",
    "- Interfaces"
   ]
  },
  {
   "cell_type": "markdown",
   "metadata": {},
   "source": [
    "> Objetos são instâncias de uma Classe. Objetos podem modelar entidades do mundo real (Carro, Pessoa, Usuário) ou entidades abstratas (Temperatura, Umidade, Medição, Configuração)."
   ]
  },
  {
   "cell_type": "markdown",
   "metadata": {},
   "source": [
    "- Classes\n",
    "    - São estruturas que permitem organizar e criar objetos que compartilham características em comum.\n",
    "- Métodos\n",
    "    - São funções definidas dentro de uma classe que descreve o comportamento de um objeto.\n",
    "    - Em python, o primeiro parâmetro dos métodos é sempre uma referência ao próprio objeto \"self\".\n",
    "    - Pode ser estático, pertencendo à classe ao invés do objeto, é útil quando a função não precisa acessar ou modificar atributos de instância. É definido pelo decorador '@staticmethod'.\n",
    "- Métodos Especiais (Mágicos)\n",
    "    - Métodos com nome especiais.\n",
    "- Atributos\n",
    "    - São definidos na Classe e representam o estado de um objeto.\n",
    "\n",
    "Usamos esse princípio para juntar, ou encapsular, dados e comportamentos relacionados em entidades únicas, que chamamos de objetos."
   ]
  },
  {
   "cell_type": "code",
   "execution_count": 48,
   "metadata": {},
   "outputs": [
    {
     "name": "stdout",
     "output_type": "stream",
     "text": [
      "ivson\n",
      "Este é um método estático.\n",
      "Este é um método estático.\n",
      "Endereço: Cidade Universitária\n",
      "Olá, lucas\n"
     ]
    }
   ],
   "source": [
    "class Pessoa:\n",
    "    def __init__(self, nome, idade):\n",
    "        self.nome = nome\n",
    "        self.idade = idade\n",
    "\n",
    "\n",
    "    def mostrar_nome(self):\n",
    "        return self.nome\n",
    "\n",
    "\n",
    "    @staticmethod\n",
    "    def metodo_sem_self():\n",
    "        return 'Este é um método estático.'\n",
    "\n",
    "    \n",
    "    @staticmethod\n",
    "    def mostrar_endereco(endereco):\n",
    "        return f'Endereço: {endereco}'\n",
    "\n",
    "\n",
    "    @staticmethod\n",
    "    def cumprimentar(pessoa: Pessoa):\n",
    "        return f'Olá, {pessoa.nome}'\n",
    "\n",
    "\n",
    "pessoa_1 = Pessoa('ivson', 25)\n",
    "pessoa_2 = Pessoa('lucas', 50)\n",
    "print(pessoa_1.mostrar_nome())\n",
    "print(pessoa_1.metodo_sem_self())\n",
    "\n",
    "print(Pessoa.metodo_sem_self())\n",
    "print(Pessoa.mostrar_endereco('Cidade Universitária'))\n",
    "\n",
    "print(pessoa_1.cumprimentar(pessoa_2))"
   ]
  },
  {
   "cell_type": "markdown",
   "metadata": {},
   "source": [
    "## Encapsulamento\n",
    "> Usamos esse princípio para juntar, ou encapsular, dados e comportamentos relacionados em entidades únicas, que chamamos de objetos.\n",
    "- Características Importantes ocultas no objeto.\n",
    "- Apenas as características explicitamente expostas devem estar acessíveis."
   ]
  },
  {
   "cell_type": "code",
   "execution_count": 49,
   "metadata": {},
   "outputs": [
    {
     "name": "stdout",
     "output_type": "stream",
     "text": [
      "ivson\n",
      "Olá, lucas\n"
     ]
    }
   ],
   "source": [
    "# versão encapsulamento\n",
    "class Pessoa:\n",
    "    def __init__(self, nome, idade):\n",
    "        self._nome = nome\n",
    "        self._idade = idade\n",
    "\n",
    "\n",
    "    def get_nome(self):\n",
    "        return self._nome\n",
    "\n",
    "\n",
    "    @staticmethod\n",
    "    def cumprimentar(pessoa: Pessoa):\n",
    "        nome_pessoa = pessoa.get_nome()\n",
    "        return f'Olá, {nome_pessoa}'\n",
    "\n",
    "\n",
    "pessoa_1 = Pessoa('ivson', 25)\n",
    "pessoa_2 = Pessoa('lucas', 50)\n",
    "print(pessoa_1.get_nome())\n",
    "\n",
    "print(pessoa_1.cumprimentar(pessoa_2))"
   ]
  },
  {
   "cell_type": "markdown",
   "metadata": {},
   "source": [
    "## Herança\n",
    "- Herança possibilita a reutilização de código comum em relação de hierarquia entre classes\n",
    "\n",
    "- Animal\n",
    "    - Gato\n",
    "    - Coelho\n",
    "    - Cachorro\n",
    "\n",
    "- Quando utilizamos herança, temos classes filhas utilizando código comum da classe acima, ou classe pai.\n",
    "- Ex.: Animal tem um método 'emitir_som()', logo gato, golfinho e cachorro também podem 'emitir_som()'.\n",
    "\n",
    "- Polimorfimos:\n",
    "    - É a propriedade que permite com que um mesmo método tenha comportamentos diferentes dependendo do tipo de objeto que está o chamando. Relacionado diretamente a Herança.\n",
    "    - Os mesmos métodos podem ter implementações diferentes entre as classes que o herdam.\n",
    "    - Ex.: \n",
    "        ```python\n",
    "        Gato.emitir_som():\n",
    "            return 'Miau'\n",
    "            \n",
    "        Cachorro.emitir_som():\n",
    "            return 'Au'\n",
    "        ```"
   ]
  },
  {
   "cell_type": "markdown",
   "metadata": {},
   "source": [
    "- Interface\n",
    "    - A interface é um contrato informal que especifica quais métodos uma classe deve implementar para ser considerada compatível com essa interface. Uma classe pode ser considerada interface se ela fornecer implementações para todos os métodos especificados na interface."
   ]
  },
  {
   "cell_type": "markdown",
   "metadata": {},
   "source": [
    "# Exemplo"
   ]
  },
  {
   "cell_type": "code",
   "execution_count": 2,
   "metadata": {},
   "outputs": [],
   "source": [
    "from abc import ABC, abstractmethod\n",
    "\n",
    "\n",
    "class Animal(ABC):\n",
    "    def __init__(self, name):\n",
    "        self.name = name\n",
    "\n",
    "    \n",
    "    def show_name(self):\n",
    "        print(self.name)\n",
    "\n",
    "\n",
    "    @abstractmethod\n",
    "    def walk(self):\n",
    "        ...\n",
    "\n",
    "\n",
    "    @abstractmethod\n",
    "    def eat(self):\n",
    "        ...\n",
    "\n",
    "\n",
    "    @abstractmethod\n",
    "    def sound(self):\n",
    "        ..."
   ]
  },
  {
   "cell_type": "markdown",
   "metadata": {},
   "source": [
    "Não posso instanciar uma classe abstrata:"
   ]
  },
  {
   "cell_type": "code",
   "execution_count": 51,
   "metadata": {},
   "outputs": [
    {
     "ename": "TypeError",
     "evalue": "Can't instantiate abstract class Animal without an implementation for abstract methods 'eat', 'sound', 'walk'",
     "output_type": "error",
     "traceback": [
      "\u001b[1;31m---------------------------------------------------------------------------\u001b[0m",
      "\u001b[1;31mTypeError\u001b[0m                                 Traceback (most recent call last)",
      "Cell \u001b[1;32mIn[51], line 1\u001b[0m\n\u001b[1;32m----> 1\u001b[0m novo_animal \u001b[38;5;241m=\u001b[39m \u001b[43mAnimal\u001b[49m\u001b[43m(\u001b[49m\u001b[38;5;124;43m'\u001b[39;49m\u001b[38;5;124;43manimal abstrato\u001b[39;49m\u001b[38;5;124;43m'\u001b[39;49m\u001b[43m)\u001b[49m\n\u001b[0;32m      2\u001b[0m novo_animal\u001b[38;5;241m.\u001b[39mshow_name()\n",
      "\u001b[1;31mTypeError\u001b[0m: Can't instantiate abstract class Animal without an implementation for abstract methods 'eat', 'sound', 'walk'"
     ]
    }
   ],
   "source": [
    "novo_animal = Animal('animal abstrato')\n",
    "novo_animal.show_name()"
   ]
  },
  {
   "cell_type": "code",
   "execution_count": 3,
   "metadata": {},
   "outputs": [],
   "source": [
    "class Person(Animal):\n",
    "    def __init__(self, name, age, cpf):\n",
    "        super().__init__(name)\n",
    "        self.age = age\n",
    "        self.cpf = cpf\n",
    "\n",
    "\n",
    "    def walk(self):\n",
    "        print('I am walking')\n",
    "\n",
    "\n",
    "    def eat(self):\n",
    "        print('I am eating')\n",
    "\n",
    "\n",
    "    def sound(self):\n",
    "        print('I am sounding')\n",
    "\n",
    "\n",
    "    def speak(self):\n",
    "        print('I am speaking')"
   ]
  },
  {
   "cell_type": "markdown",
   "metadata": {},
   "source": [
    "Mas posso implementar uma classe pessoa, uma vez que ela implementa os métodos faltantes de Animal."
   ]
  },
  {
   "cell_type": "code",
   "execution_count": 4,
   "metadata": {},
   "outputs": [
    {
     "name": "stdout",
     "output_type": "stream",
     "text": [
      "I am walking\n",
      "I am eating\n",
      "I am sounding\n",
      "I am speaking\n"
     ]
    }
   ],
   "source": [
    "nova_pessoa = Person('Fulano', 40, 123123123)\n",
    "nova_pessoa.walk()\n",
    "nova_pessoa.eat()\n",
    "nova_pessoa.sound()\n",
    "nova_pessoa.speak()"
   ]
  },
  {
   "cell_type": "markdown",
   "metadata": {},
   "source": [
    "Já `Dog` implementa os métodos de `Animal` de uma forma diferente."
   ]
  },
  {
   "cell_type": "code",
   "execution_count": 5,
   "metadata": {},
   "outputs": [],
   "source": [
    "class Dog(Animal):\n",
    "    def __init__(self, name, age):\n",
    "        super().__init__(name)\n",
    "        self.age = age\n",
    "\n",
    "\n",
    "    def walk(self):\n",
    "        print('I run')\n",
    "\n",
    "\n",
    "    def eat(self):\n",
    "        print('I bite')\n",
    "\n",
    "\n",
    "    def sound(self):\n",
    "        print('I bark')\n",
    "\n",
    "\n",
    "    def bite(self):\n",
    "        print('I bite someone')"
   ]
  },
  {
   "cell_type": "code",
   "execution_count": 6,
   "metadata": {},
   "outputs": [
    {
     "name": "stdout",
     "output_type": "stream",
     "text": [
      "I run\n",
      "I bite\n",
      "I bark\n",
      "I bite someone\n"
     ]
    }
   ],
   "source": [
    "novo_cachorro = Dog('Rex', 8)\n",
    "\n",
    "novo_cachorro.walk()\n",
    "novo_cachorro.eat()\n",
    "novo_cachorro.sound()\n",
    "novo_cachorro.bite()"
   ]
  },
  {
   "cell_type": "markdown",
   "metadata": {},
   "source": [
    "E `Labrador` é capaz de fazer tudo que um `Dog` faz, e mais um pouco:"
   ]
  },
  {
   "cell_type": "code",
   "execution_count": 7,
   "metadata": {},
   "outputs": [],
   "source": [
    "class Labrador(Dog):\n",
    "    def __init__(self, name, age, is_crazy):\n",
    "        super().__init__(name, age)\n",
    "        self.is_crazy = is_crazy\n",
    "\n",
    "\n",
    "    def mess_up(self):\n",
    "        if self.is_crazy:\n",
    "            print(\"I'm so crazy and I'm messing everything up.\")\n",
    "        else:\n",
    "            print(\"I'm calm and just want to eat.\")"
   ]
  },
  {
   "cell_type": "code",
   "execution_count": 8,
   "metadata": {},
   "outputs": [
    {
     "name": "stdout",
     "output_type": "stream",
     "text": [
      "I run\n",
      "I bite\n",
      "I bark\n",
      "I bite someone\n",
      "I'm so crazy and I'm messing everything up.\n",
      "I run\n",
      "I bite\n",
      "I bark\n",
      "I bite someone\n",
      "I'm calm and just want to eat.\n"
     ]
    }
   ],
   "source": [
    "novo_labrador = Labrador('Rexxxx', 5, True)\n",
    "novo_labrador.walk()\n",
    "novo_labrador.eat()\n",
    "novo_labrador.sound()\n",
    "novo_labrador.bite()\n",
    "novo_labrador.mess_up()\n",
    "\n",
    "outro_labrador = Labrador('Rexxxx', 5, False)\n",
    "outro_labrador.walk()\n",
    "outro_labrador.eat()\n",
    "outro_labrador.sound()\n",
    "outro_labrador.bite()\n",
    "outro_labrador.mess_up()"
   ]
  }
 ],
 "metadata": {
  "kernelspec": {
   "display_name": "base",
   "language": "python",
   "name": "python3"
  },
  "language_info": {
   "codemirror_mode": {
    "name": "ipython",
    "version": 3
   },
   "file_extension": ".py",
   "mimetype": "text/x-python",
   "name": "python",
   "nbconvert_exporter": "python",
   "pygments_lexer": "ipython3",
   "version": "3.12.2"
  }
 },
 "nbformat": 4,
 "nbformat_minor": 2
}
