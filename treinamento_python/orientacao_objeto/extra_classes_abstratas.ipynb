{
 "cells": [
  {
   "cell_type": "markdown",
   "metadata": {},
   "source": [
    "## Classes Abstratas\n",
    "### O que são métodos abstratos?\n",
    "> Métodos declarados, porém sem implementação, ou seja, somente a assinatura desses métodos sem corpo.\n",
    "\n",
    "### O que são classes abstratas?\n",
    "> **Classes abstratas** são aquelas que contém um ou mais métodos abstratos. Em Python, além de **não poderem ser instanciadas**, elas precisam de subclasses que gerem implementação para os métodos, ou seja, as subclasses que herdam a classe abstrata devem sobrescrever obrigatoriamente seus métodos. São usadas apenas para serem herdadas, funcionando como uma superclasse e forçando hierarquia para todas as subclasses. Em outras palavras, as classes abstratas deixam as interfaces explícitas e verificam a conformidade das implementações nas classes derivadas. Ou seja, elas **impõem** a conformidade com a interface.\n",
    "\n",
    "> O uso de classes abstratas criam um contrato que deverá ser respeitado por todas as pessoas desenvolvedoras que utilizarem o código, ajudando, assim, a padronizar o código.\n",
    "\n",
    "> Outro ponto é o **DRY** (_Don't Repeat Yourself_). Em códigos longos, é comum termos diversas classes parecidas, o que pode gerar confusão, tanto para quem fez quanto para quem lê o código. Ao usarmos a classe abstrata como uma interface formal, deixamos o código mais limpo e com menos chances de _bugs_."
   ]
  },
  {
   "cell_type": "markdown",
   "metadata": {},
   "source": [
    "## ABCs (Classes-base Abstratas)\n",
    "Por padrão, o Python não fornece classes abstratas. Ele vem com um módulo que fornece a base para definir as classes-base abstratas (ABC) e o nome desse módulo é **ABC**. Esse último funciona decorando métodos (_annotations_) da classe base como abstratos e, então, registrando classes concretas, como implementação da base abstrata. Um método torna-se abstrato quando declarado com a palavra-chave `@abstractmethod`.\n",
    "\n",
    "`ABCs` garantem que as classes derivadas implementem métodos específicos da classe base. No entanto, herdar de uma ABC é mais que implementar métodos necessários: é também uma declaração da intenção da pessoa desenvolvedora. Trata-se de uma forma de forçar a padronização do código.\n",
    "\n",
    "Ao usar ABCs, herança múltipla não só é comum (diferente de outras linguagens como Java que não permitem herança múltipla) como também é praticamente inevitável, visto que cada uma das ABCs fundamentais de coleção como **Sequence**, **Mapping** e **Set** estendem várias ABCs.\n",
    "\n",
    "[Documentação da ABC](https://docs.python.org/pt-br/3/library/abc.html)"
   ]
  },
  {
   "cell_type": "markdown",
   "metadata": {},
   "source": [
    "### Criando uma classe abstrata\n",
    "Usaremos ABCs da forma mais comum, como supercalsses em casos em que você precisa implementar uma interface. A ABC vai verificar subclasses concretas para saber se estão de acordo com a interface que ela define.\n",
    "\n",
    "> **Importante!** Cuidado para não criar ABCs desenfreadamente, sem analisar a real necessidade, impondo uma série de regras excessivas em uma linguagem que se tornou popular por ser prática e pragmática._\n",
    "\n",
    "As classes concretas contêm apenas métodos concretos (normais), enquanto as classes abstratas podem conter métodos concretos e abstratos. A classe concreta fornece implementação de métodos abstratos, a classe base abstrata também pode fornecer uma implementação utilizando utilização os métodos via `super()`."
   ]
  },
  {
   "cell_type": "code",
   "execution_count": 3,
   "metadata": {},
   "outputs": [],
   "source": [
    "from abc import ABC, abstractmethod\n",
    "\n",
    "\n",
    "class Person(ABC):\n",
    "    @abstractmethod\n",
    "    def name(self) -> None:\n",
    "        ...\n",
    "\n",
    "\n",
    "    def print_role() -> None:\n",
    "        ...\n",
    "\n",
    "\n",
    "class Employee(Person):\n",
    "    def __init__(self, your_name: str) -> None:\n",
    "        self.your_name = your_name\n",
    "\n",
    "\n",
    "    def name(self) -> None:\n",
    "        print(f'Meu nome é: {self.your_name}')\n",
    "\n",
    "\n",
    "class Seller(Employee):\n",
    "    def print_role(self) -> None:\n",
    "        print('Meu cargo é de vendedor.')\n",
    "\n",
    "\n",
    "\n",
    "class Manager(Employee):\n",
    "    def print_role(self) -> None:\n",
    "        print('Meu cargo é de gerente.')"
   ]
  },
  {
   "cell_type": "code",
   "execution_count": 5,
   "metadata": {},
   "outputs": [
    {
     "name": "stdout",
     "output_type": "stream",
     "text": [
      "Meu nome é: Robô Vendedor\n",
      "Meu cargo é de vendedor.\n",
      "---\n",
      "Meu nome é: Robô Gerente\n",
      "Meu cargo é de gerente.\n"
     ]
    }
   ],
   "source": [
    "seller_1 = Seller('Robô Vendedor')\n",
    "seller_1.name()\n",
    "seller_1.print_role()\n",
    "\n",
    "print('---')\n",
    "\n",
    "manager_1 = Manager('Robô Gerente')\n",
    "manager_1.name()\n",
    "manager_1.print_role()"
   ]
  }
 ],
 "metadata": {
  "kernelspec": {
   "display_name": "base",
   "language": "python",
   "name": "python3"
  },
  "language_info": {
   "codemirror_mode": {
    "name": "ipython",
    "version": 3
   },
   "file_extension": ".py",
   "mimetype": "text/x-python",
   "name": "python",
   "nbconvert_exporter": "python",
   "pygments_lexer": "ipython3",
   "version": "3.12.2"
  }
 },
 "nbformat": 4,
 "nbformat_minor": 2
}
