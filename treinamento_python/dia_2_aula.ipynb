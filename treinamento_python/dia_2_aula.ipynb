{
 "cells": [
  {
   "cell_type": "markdown",
   "metadata": {},
   "source": [
    "# Dia 2 - Condicionais\n",
    "Lucas Silva Arruda\n",
    "\n",
    "Ivson de Lima Santos"
   ]
  },
  {
   "cell_type": "markdown",
   "metadata": {},
   "source": [
    "## Condicional - Python\n",
    "<hr />\n",
    "\n",
    "> Em python, existem dois tipos de condicional: `if` e `else`.\n",
    "O `if` é usado para verificar uma condição e executar um bloco de código se essa condição for verdadeira."
   ]
  },
  {
   "cell_type": "code",
   "execution_count": 23,
   "metadata": {},
   "outputs": [
    {
     "name": "stdout",
     "output_type": "stream",
     "text": [
      "valor é 0\n"
     ]
    }
   ],
   "source": [
    "value = 0\n",
    "\n",
    "if value == 0:\n",
    "    print('valor é 0')"
   ]
  },
  {
   "cell_type": "markdown",
   "metadata": {},
   "source": [
    "O `elif` é usado para verificar uma condição e executar um bloco de código se essa condição for verdadeira após um if."
   ]
  },
  {
   "cell_type": "code",
   "execution_count": 24,
   "metadata": {},
   "outputs": [
    {
     "name": "stdout",
     "output_type": "stream",
     "text": [
      "1\n"
     ]
    }
   ],
   "source": [
    "if value == 0:\n",
    "    value += 1\n",
    "elif value == 1:\n",
    "    value += 2\n",
    "\n",
    "print(value)"
   ]
  },
  {
   "cell_type": "markdown",
   "metadata": {},
   "source": [
    "Já o `else` é usado em conjunto com o `if` e permite executar um bloco de código alternativo caso a condição do `if` seja falsa."
   ]
  },
  {
   "cell_type": "code",
   "execution_count": 25,
   "metadata": {},
   "outputs": [
    {
     "name": "stdout",
     "output_type": "stream",
     "text": [
      "5\n"
     ]
    }
   ],
   "source": [
    "if value == 0:\n",
    "    value += 1\n",
    "elif value == 2:\n",
    "    value += 2\n",
    "else:\n",
    "    value = 5\n",
    "\n",
    "print(value)"
   ]
  },
  {
   "cell_type": "markdown",
   "metadata": {},
   "source": [
    "## Laços de Repetição\n",
    "<hr />\n",
    "\n",
    "- Uma estrutura de repetição em Python é um recurso para desenvolver tarefas repetitivas em um loop contínuo.\n",
    "- O loop funciona até uma condição ser satisfeita ou até uma parada forçada ser executada. (`break` e/ou `return`)"
   ]
  },
  {
   "cell_type": "markdown",
   "metadata": {},
   "source": [
    "### WHILE\n",
    "- O comando `while` faz com que um conjunto de instruções seja executado enquanto uma condição é atendida.\n",
    "- Quando o resultado dessa condição passa a ser falso, a execução do loop é interrompida."
   ]
  },
  {
   "cell_type": "code",
   "execution_count": 27,
   "metadata": {},
   "outputs": [
    {
     "name": "stdout",
     "output_type": "stream",
     "text": [
      "Resultado: 3.0\n"
     ]
    }
   ],
   "source": [
    "# Calculadora com WHILE\n",
    "condicao = False\n",
    "\n",
    "while condicao is False:\n",
    "    num_1 = float(input('Digite um número: '))\n",
    "    \n",
    "    operador = int(input('''Digite a operação desejada\n",
    "        1 - para soma\n",
    "        2 - para subtração\n",
    "        3 - para multiplicação\n",
    "        4 - para divisão\n",
    "        : '''))\n",
    "\n",
    "    num_2 = float(input('Digite o segundo número: '))\n",
    "\n",
    "    if operador == 1:\n",
    "        operacao = num_1 + num_2\n",
    "    elif operador == 2:\n",
    "        operacao = num_1 - num_2\n",
    "    elif operador == 3:\n",
    "        operacao = num_1 * num_2\n",
    "    elif operador == 4:\n",
    "        operacao = num_1 / num_2\n",
    "    else:\n",
    "        operacao = 'Operador inválido. Use 1, 2, 3, ou 4.'\n",
    "\n",
    "    print(f'Resultado: {operacao}')\n",
    "\n",
    "    opcao = int(input('Digite 1 para sair ou 2 para continuar os cálculos: '))\n",
    "    if opcao == 1:\n",
    "        condicao = True"
   ]
  },
  {
   "cell_type": "markdown",
   "metadata": {},
   "source": [
    "## FOR\n",
    "<hr />\n",
    "\n",
    "O laço `for` nos permite percorrer os itens de uma coleção e, para cada um deles, executar o bloco de código declarado no loop."
   ]
  },
  {
   "cell_type": "code",
   "execution_count": null,
   "metadata": {},
   "outputs": [
    {
     "name": "stdout",
     "output_type": "stream",
     "text": [
      "0\n",
      "1\n",
      "2\n",
      "3\n",
      "4\n",
      "5\n",
      "6\n",
      "7\n",
      "8\n",
      "9\n"
     ]
    }
   ],
   "source": [
    "for i in range(10):\n",
    "    print(i)"
   ]
  },
  {
   "cell_type": "code",
   "execution_count": null,
   "metadata": {},
   "outputs": [
    {
     "name": "stdout",
     "output_type": "stream",
     "text": [
      "1\n",
      "4\n",
      "7\n"
     ]
    }
   ],
   "source": [
    "for i in range(1, 10, 3):\n",
    "    print(i)"
   ]
  },
  {
   "cell_type": "code",
   "execution_count": null,
   "metadata": {},
   "outputs": [
    {
     "name": "stdout",
     "output_type": "stream",
     "text": [
      "1\n",
      "2\n",
      "lucas\n",
      "3\n",
      "True\n",
      "1.4\n",
      "aqui ó\n"
     ]
    }
   ],
   "source": [
    "lista = [1, 2, 'lucas', 3, True, 1.4, 'aqui ó']\n",
    "\n",
    "for item in lista:\n",
    "    print(item)"
   ]
  },
  {
   "cell_type": "code",
   "execution_count": null,
   "metadata": {},
   "outputs": [
    {
     "name": "stdout",
     "output_type": "stream",
     "text": [
      "1\n",
      "2\n",
      "3\n"
     ]
    }
   ],
   "source": [
    "for item in lista:\n",
    "    if type(item) == int:\n",
    "        print(item)"
   ]
  },
  {
   "cell_type": "code",
   "execution_count": null,
   "metadata": {},
   "outputs": [
    {
     "name": "stdout",
     "output_type": "stream",
     "text": [
      "inteiro\n",
      "inteiro\n",
      "string\n",
      "inteiro\n",
      "Outro tipo\n",
      "float\n",
      "string\n"
     ]
    }
   ],
   "source": [
    "for item in lista:\n",
    "    if type(item) == int:\n",
    "        print('inteiro')\n",
    "    elif type(item) == str:\n",
    "        print('string')\n",
    "    elif type(item) == float:\n",
    "        print('float')\n",
    "    else:\n",
    "        print('Outro tipo')"
   ]
  },
  {
   "cell_type": "code",
   "execution_count": null,
   "metadata": {},
   "outputs": [],
   "source": [
    "meu_dicionario = {\n",
    "    'meu': 1,\n",
    "    'nosso': 5,\n",
    "    'deles': 3,\n",
    "}"
   ]
  },
  {
   "cell_type": "markdown",
   "metadata": {},
   "source": [
    "## Funções\n",
    "<hr />\n",
    "\n",
    "- Identação\n",
    "- Função X Procedimentos\n",
    "- Conceito\n",
    "- Definição\n",
    "- Argumentos\n",
    "- Retorno\n",
    "- Chamada de uma Função\n",
    "- Funções Recursivas"
   ]
  },
  {
   "cell_type": "markdown",
   "metadata": {},
   "source": [
    "### Identação\n",
    "- A identação é uma parte crucial da sintaxe, e é usada para definir blocos de código. Em outras linguagens, como Java, é utilizado chaves `{}`, já em python é identado com espaço em relação à linha que define o bloco.\n",
    "- A `função` retorna um valor, já o procedimento não retorna nada.\n",
    "\n",
    "**Conceito**: Sendo estrutruas essenciais do código, as funções permitem definir um bloco de código reutilizável.\n",
    "\n",
    "As funções em Python também servem para:\n",
    "- Dividir e classificar o código em partes mais simples para depurar e programar com maior facilidade.\n",
    "- Reutilizar o código, evitando repetições desnecessárias em um programa.\n",
    "- Evitando que tenhamos funções com muitas responsabilidades.\n",
    "\n",
    "- O comando `def` é utilizado para definir funções em python.\n",
    "- O comando `return` é utilizado para obter um valor de retorno em uma função.\n",
    "- Sintaxe:\n",
    "    ```python\n",
    "    def nome_da_funcao(parametros):\n",
    "        return parametros\n",
    "    ```\n"
   ]
  },
  {
   "cell_type": "code",
   "execution_count": 30,
   "metadata": {},
   "outputs": [
    {
     "name": "stdout",
     "output_type": "stream",
     "text": [
      "Oi\n",
      "9\n",
      "[0, 1, 2, 3, 4]\n",
      "0\n",
      "4\n"
     ]
    }
   ],
   "source": [
    "# Built In\n",
    "list()\n",
    "\n",
    "print('Oi')\n",
    "\n",
    "print(len('Oi Python'))\n",
    "\n",
    "x = range(5)\n",
    "print(list(x))\n",
    "\n",
    "print(min(x))\n",
    "\n",
    "print(max(x))"
   ]
  },
  {
   "cell_type": "code",
   "execution_count": 31,
   "metadata": {},
   "outputs": [
    {
     "name": "stdout",
     "output_type": "stream",
     "text": [
      "6\n"
     ]
    }
   ],
   "source": [
    "def soma(a, b):\n",
    "    resultado = a + b\n",
    "    return resultado\n",
    "\n",
    "\n",
    "print(soma(2, 4))"
   ]
  },
  {
   "cell_type": "markdown",
   "metadata": {},
   "source": [
    "- Argumentos posicionais\n",
    "    - Os argumentos são passados na ordem em que são definidos.\n",
    "- Argumentos por valor padrão\n",
    "- Argumentos nomeados\n",
    "- Argumentos de palavra-chave\n",
    "    - podem ser usados para passar um valor para o parâmetro, mesmo que ele já possua um valor padrão."
   ]
  },
  {
   "cell_type": "code",
   "execution_count": 36,
   "metadata": {},
   "outputs": [
    {
     "name": "stdout",
     "output_type": "stream",
     "text": [
      "Bem vindo ao Python, Bruno de Oliveira Pinheiro Júnior\n",
      "Bem vindo ao Python, de Oliveira Pinheiro Júnior Bruno\n",
      "Bem vindo ao Python, Fulano de Oliveira Pinheiro\n"
     ]
    }
   ],
   "source": [
    "def imprimir_nome_completo(\n",
    "    nome = 'Fulano',\n",
    "    sobrenome = 'De Tal',\n",
    "    ultimo_nome = '',\n",
    "):\n",
    "    print(f'Bem vindo ao Python, {nome} {sobrenome} {ultimo_nome}')\n",
    "\n",
    "\n",
    "imprimir_nome_completo('Bruno', 'de Oliveira', 'Pinheiro Júnior')\n",
    "\n",
    "imprimir_nome_completo('de Oliveira', 'Pinheiro Júnior', 'Bruno')\n",
    "\n",
    "imprimir_nome_completo(\n",
    "    sobrenome='de Oliveira',\n",
    "    ultimo_nome='Pinheiro'\n",
    ")"
   ]
  },
  {
   "cell_type": "code",
   "execution_count": 37,
   "metadata": {},
   "outputs": [
    {
     "name": "stdout",
     "output_type": "stream",
     "text": [
      "[1, 3, 5, 7, 9]\n"
     ]
    }
   ],
   "source": [
    "def retorna_valores_impares(lista):\n",
    "    impares = []\n",
    "    for i in range(len(lista)):\n",
    "        if lista[i] % 2 != 0:\n",
    "            impares.append(lista[i])\n",
    "\n",
    "    return impares\n",
    "\n",
    "\n",
    "lista = [1, 2, 3, 4, 5, 6, 7, 8, 9]\n",
    "\n",
    "print(retorna_valores_impares(lista))"
   ]
  },
  {
   "cell_type": "markdown",
   "metadata": {},
   "source": [
    "- Para chamar uma função, usamos seu nome e os parâmetros, caso necessário.\n",
    "- Sintaxe para função sem parâmetros: `nome_da_funcao()`\n",
    "- Sintaxe para função sem retorno:\n",
    "    - `nome_da_funcao(parametros)`\n",
    "- Sintaxe para função com retorno:\n",
    "    - `variavel_resposta = nome_da_funcao(parametros)`"
   ]
  },
  {
   "cell_type": "markdown",
   "metadata": {},
   "source": [
    "## Função Recursiva\n",
    "- São funções que chamam a si mesma durante a execução.\n",
    "- Ex.: fibonacci"
   ]
  },
  {
   "cell_type": "code",
   "execution_count": 39,
   "metadata": {},
   "outputs": [
    {
     "name": "stdout",
     "output_type": "stream",
     "text": [
      "120\n"
     ]
    }
   ],
   "source": [
    "def fatorial(n):\n",
    "    if n == 0:\n",
    "        return 1\n",
    "    elif n == 1:\n",
    "        return 1\n",
    "    else:\n",
    "        n = n * fatorial(n-1)\n",
    "        return n\n",
    "\n",
    "\n",
    "print(fatorial(5))"
   ]
  }
 ],
 "metadata": {
  "kernelspec": {
   "display_name": "Python 3",
   "language": "python",
   "name": "python3"
  },
  "language_info": {
   "codemirror_mode": {
    "name": "ipython",
    "version": 3
   },
   "file_extension": ".py",
   "mimetype": "text/x-python",
   "name": "python",
   "nbconvert_exporter": "python",
   "pygments_lexer": "ipython3",
   "version": "3.12.2"
  }
 },
 "nbformat": 4,
 "nbformat_minor": 2
}
